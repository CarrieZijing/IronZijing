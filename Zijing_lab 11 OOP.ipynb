{
 "cells": [
  {
   "cell_type": "code",
   "execution_count": 13,
   "id": "e8d53104",
   "metadata": {},
   "outputs": [
    {
     "data": {
      "text/plain": [
       "[8, 7, 6, 5, 1]"
      ]
     },
     "execution_count": 13,
     "metadata": {},
     "output_type": "execute_result"
    }
   ],
   "source": [
    "#1.Remove All The Marked Elements of a List\n",
    "#Define a method/function that removes from a given array of integers all the values contained in a second array.\n",
    "\n",
    "# integer_list =  [1, 1, 2 ,3 ,1 ,2 ,3 ,4]\n",
    "# values_list = [1, 3]\n",
    "# l.remove_(integer_list, values_list) == [2, 2, 4]\n",
    "\n",
    "def rmint(integer_list,values_list):\n",
    "    nlst = [i for i in integer_list if i not in values_list]\n",
    "    return nlst\n",
    "\n",
    "ilst1=[8, 2, 7, 2, 3, 4, 6, 5, 4, 4, 1, 2 , 3]\n",
    "\n",
    "vlst1=[2, 4, 3]\n",
    "\n",
    "rmint(ilst1,vlst1)"
   ]
  },
  {
   "cell_type": "code",
   "execution_count": null,
   "id": "86831824",
   "metadata": {},
   "outputs": [],
   "source": [
    "#2.Method For Counting Total Occurence Of Specific Digits\n",
    "\n",
    "#same task in lab10 exercise 5\n"
   ]
  },
  {
   "cell_type": "code",
   "execution_count": 22,
   "id": "dac3c109",
   "metadata": {},
   "outputs": [
    {
     "data": {
      "text/plain": [
       "[('a', 5), ('b', 2), ('r', 2), ('c', 1), ('d', 1)]"
      ]
     },
     "execution_count": 22,
     "metadata": {},
     "output_type": "execute_result"
    }
   ],
   "source": [
    "#3.Ordered Count of Characters\n",
    "#Count the number of occurrences of each character and return it as a list of tuples in order of appearance. For empty output return an empty list.\n",
    "#ex:\n",
    "#ordered_count(\"abracadabra\") == [('a', 5), ('b', 2), ('r', 2), ('c', 1), ('d', 1)]\n",
    "\n",
    "def ocount(astr):\n",
    "    dict1={}\n",
    "    for i in astr:\n",
    "        n=astr.count(i)\n",
    "        dict1[i]=n\n",
    "    return [(i,n) for i,n in dict1.items()]\n",
    "\n",
    "ocount(\"abracadabra\")\n"
   ]
  },
  {
   "cell_type": "code",
   "execution_count": null,
   "id": "40db08d9",
   "metadata": {},
   "outputs": [],
   "source": []
  }
 ],
 "metadata": {
  "kernelspec": {
   "display_name": "Python 3",
   "language": "python",
   "name": "python3"
  },
  "language_info": {
   "codemirror_mode": {
    "name": "ipython",
    "version": 3
   },
   "file_extension": ".py",
   "mimetype": "text/x-python",
   "name": "python",
   "nbconvert_exporter": "python",
   "pygments_lexer": "ipython3",
   "version": "3.8.8"
  }
 },
 "nbformat": 4,
 "nbformat_minor": 5
}
