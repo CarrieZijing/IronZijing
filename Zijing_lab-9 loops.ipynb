{
 "cells": [
  {
   "cell_type": "markdown",
   "metadata": {},
   "source": [
    "# Loops\n",
    "\n",
    "Complete the following set of exercises to solidify your knowledge for Loops."
   ]
  },
  {
   "cell_type": "markdown",
   "metadata": {},
   "source": [
    "#### 1. Print first 10 natural numbers using while loop"
   ]
  },
  {
   "cell_type": "code",
   "execution_count": 18,
   "metadata": {},
   "outputs": [
    {
     "name": "stdout",
     "output_type": "stream",
     "text": [
      "1\n",
      "2\n",
      "3\n",
      "4\n",
      "5\n",
      "6\n",
      "7\n",
      "8\n",
      "9\n",
      "10\n"
     ]
    }
   ],
   "source": [
    "i = 1\n",
    "while i <= 10:\n",
    "    print(i)\n",
    "    i +=1"
   ]
  },
  {
   "cell_type": "markdown",
   "metadata": {},
   "source": [
    "#### 2. Display numbers from a list using loop\n",
    "Write a program to display only those numbers from a list that satisfy the following conditions\n",
    "\n",
    "The number must be divisible by five\n",
    "\n",
    "If the number is greater than 150, then skip it and move to the next number\n",
    "\n",
    "If the number is greater than 500, then stop the loop\n",
    "\n",
    "numbers = [12, 75, 150, 180, 145, 525, 50]"
   ]
  },
  {
   "cell_type": "code",
   "execution_count": 21,
   "metadata": {},
   "outputs": [
    {
     "name": "stdout",
     "output_type": "stream",
     "text": [
      "[75, 150, 145]\n"
     ]
    }
   ],
   "source": [
    "numbers = [12, 75, 150, 180, 145, 525, 50]\n",
    "nn = []\n",
    "for n in numbers:\n",
    "    if n > 500:\n",
    "        break\n",
    "    if n%5 == 0:\n",
    "        if n > 150:\n",
    "            continue\n",
    "        else:\n",
    "            nn.append(n)\n",
    "print(nn)"
   ]
  },
  {
   "cell_type": "markdown",
   "metadata": {},
   "source": [
    "#### 3.Write a Python program to check the validity of a password (input from users).\n",
    "\n",
    "Validation :\n",
    "\n",
    "At least 1 letter between [a-z] and 1 letter between [A-Z].\n",
    "\n",
    "At least 1 number between [0-9].\n",
    "\n",
    "At least 1 character from [$#@].\n",
    "\n",
    "Minimum length 6 characters.\n",
    "\n",
    "Maximum length 16 characters."
   ]
  },
  {
   "cell_type": "code",
   "execution_count": 33,
   "metadata": {},
   "outputs": [
    {
     "name": "stdout",
     "output_type": "stream",
     "text": [
      "type in your password: Abc12#\n",
      "the input password is valid\n"
     ]
    }
   ],
   "source": [
    "password = input(\"type in your password: \")\n",
    "\n",
    "import re\n",
    "\n",
    "if re.findall('\\d+',password) and re.findall('[a-z]',password) and re.findall('[A-Z]', password) and re.findall('[$#@]',password) and (6 <= len(password) <= 16):\n",
    "    print('the input password is valid')\n",
    "                        \n",
    "else:\n",
    "    print(\"the input password is not valid\")\n",
    "        "
   ]
  },
  {
   "cell_type": "markdown",
   "metadata": {},
   "source": [
    "#### 4. Break the loop when x is 6, and see what happens with the else block"
   ]
  },
  {
   "cell_type": "code",
   "execution_count": 37,
   "metadata": {},
   "outputs": [
    {
     "name": "stdout",
     "output_type": "stream",
     "text": [
      "1\n",
      "value is 2\n",
      "2\n",
      "value is 3\n",
      "3\n",
      "value is 4\n",
      "4\n",
      "value is 5\n",
      "5\n",
      "i=6, break the loop\n"
     ]
    }
   ],
   "source": [
    "for i in range(1,10):\n",
    "    print(i)\n",
    "    i+=1\n",
    "    if i == 6:\n",
    "        print(f'i=6, break the loop')\n",
    "        break\n",
    "    print(f'value is {i}')"
   ]
  },
  {
   "cell_type": "markdown",
   "metadata": {},
   "source": [
    "#### 5. Write a Python program to calculate the sum and average of n integer numbers (input from the user). Input 0 to finish.\n"
   ]
  },
  {
   "cell_type": "code",
   "execution_count": 5,
   "metadata": {},
   "outputs": [
    {
     "name": "stdout",
     "output_type": "stream",
     "text": [
      "please type in a number: 3\n",
      "if you finish, please type 's' to start the calculation, if not press enter or type whatever letter\n",
      "please type in a number: 4\n",
      "if you finish, please type 's' to start the calculation, if not press enter or type whatever letter\n",
      "please type in a number: 5\n",
      "if you finish, please type 's' to start the calculation, if not press enter or type whatever letters\n",
      "sum is 12.0, mean is 4.0\n"
     ]
    }
   ],
   "source": [
    "ls=[]\n",
    "a = True\n",
    "\n",
    "while a:\n",
    "    num=(float(input(\"please type in a number: \")))\n",
    "    ls.append(num)\n",
    "    b=(input(\"if you finish, please type 's' to start the calculation, if not press enter or type whatever letter\"))\n",
    "    if b == 's':\n",
    "        a=False\n",
    "    else:\n",
    "        continue\n",
    "    \n",
    "lssum = float()\n",
    "\n",
    "for l in ls:\n",
    "    lssum += l\n",
    "\n",
    "lsmean = (lssum/(len(ls)))\n",
    "\n",
    "print(f'result: sum is {lssum}, mean is {lsmean}')\n"
   ]
  },
  {
   "cell_type": "code",
   "execution_count": null,
   "metadata": {},
   "outputs": [],
   "source": []
  }
 ],
 "metadata": {
  "kernelspec": {
   "display_name": "Python 3",
   "language": "python",
   "name": "python3"
  },
  "language_info": {
   "codemirror_mode": {
    "name": "ipython",
    "version": 3
   },
   "file_extension": ".py",
   "mimetype": "text/x-python",
   "name": "python",
   "nbconvert_exporter": "python",
   "pygments_lexer": "ipython3",
   "version": "3.8.8"
  }
 },
 "nbformat": 4,
 "nbformat_minor": 2
}
