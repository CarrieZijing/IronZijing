{
 "cells": [
  {
   "cell_type": "markdown",
   "metadata": {
    "id": "xLLW4yjDFDOg"
   },
   "source": [
    "# Before your start:\n",
    "- Read the README.md file\n",
    "- Comment as much as you can and use the resources (README.md file)\n",
    "- Happy learning!"
   ]
  },
  {
   "cell_type": "code",
   "execution_count": 31,
   "metadata": {
    "id": "5IO5yAWPFDOl"
   },
   "outputs": [],
   "source": [
    "# Run this code:\n",
    "\n",
    "%matplotlib inline\n",
    "\n",
    "import matplotlib.pyplot as plt\n",
    "import seaborn as sns"
   ]
  },
  {
   "cell_type": "code",
   "execution_count": 3,
   "metadata": {
    "id": "MGqPNs-JFDOm"
   },
   "outputs": [],
   "source": [
    "# Import numpy and pandas:\n",
    "import numpy as np\n",
    "import pandas as pd\n"
   ]
  },
  {
   "cell_type": "markdown",
   "metadata": {
    "id": "nISH216QFDOm"
   },
   "source": [
    "# Challenge 1 - Reading and Standardizing the Data\n",
    "\n",
    "In this challenge we will work with image data and reduce the dimensions of the data to create a 2 dimensional plot. While we have not worked much with image data before, it can be represented as a numpy array where each pixel is assigned a numeric value. In this lesson, we will look at a dataset of cats and a dataset of dogs and see whether reducing them to two dimensions allows us to see if the data is separable. We will start by loading and processing the data. Run the cell below to load the two csv files and convert them into numpy arrays."
   ]
  },
  {
   "cell_type": "code",
   "execution_count": 4,
   "metadata": {
    "id": "6sb4RKhGFDOm"
   },
   "outputs": [],
   "source": [
    "# Run this code\n",
    "\n",
    "cats = np.array(pd.read_csv(\"https://raw.githubusercontent.com/bioramble/pca/master/cat.csv\", header=None))\n",
    "dogs = np.array(pd.read_csv(\"https://raw.githubusercontent.com/bioramble/pca/master/dog.csv\", header=None))"
   ]
  },
  {
   "cell_type": "markdown",
   "metadata": {
    "id": "ea9CtFZOFDOn"
   },
   "source": [
    "Next, we'll examine the shape of both the cats and the dogs arrays. Print out both shapes below."
   ]
  },
  {
   "cell_type": "code",
   "execution_count": 5,
   "metadata": {
    "id": "zwfJ_fAzFDOn",
    "outputId": "7ba12f2a-ea93-45a9-b98d-8ab77ae243c6"
   },
   "outputs": [
    {
     "data": {
      "text/plain": [
       "(4096, 80)"
      ]
     },
     "execution_count": 5,
     "metadata": {},
     "output_type": "execute_result"
    }
   ],
   "source": [
    "# Your code here:\n",
    "cats.shape"
   ]
  },
  {
   "cell_type": "code",
   "execution_count": 6,
   "metadata": {
    "id": "FFzKMIp2FDOo",
    "outputId": "a719376c-ac66-4766-cb59-9c7461c6a3db"
   },
   "outputs": [
    {
     "data": {
      "text/plain": [
       "(4096, 80)"
      ]
     },
     "execution_count": 6,
     "metadata": {},
     "output_type": "execute_result"
    }
   ],
   "source": [
    "dogs.shape"
   ]
  },
  {
   "cell_type": "markdown",
   "metadata": {
    "id": "y_lOarPjFDOo"
   },
   "source": [
    "What this means is that both arrays contain 80 images each (the number of columns). Each image is comprised of 64x64 pixels (so a total of 4096 pixels per image). The images have been flattened such that all 4096 are in a single row.\n",
    "\n",
    "Print out column 0 of the cats array to see what the pixels values look like."
   ]
  },
  {
   "cell_type": "code",
   "execution_count": 7,
   "metadata": {},
   "outputs": [
    {
     "data": {
      "text/plain": [
       "array([[ 64,  23, 250, ...,  60, 223, 101],\n",
       "       [ 64,  23, 250, ...,  50, 224, 107],\n",
       "       [ 64,  20, 250, ...,  63, 225, 106],\n",
       "       ...,\n",
       "       [ 64,  31, 244, ..., 105, 180, 114],\n",
       "       [ 64,  23, 232, ..., 118, 182,  91],\n",
       "       [ 61,   9, 244, ..., 104, 177, 113]])"
      ]
     },
     "execution_count": 7,
     "metadata": {},
     "output_type": "execute_result"
    }
   ],
   "source": [
    "type(cats) #numpy.ndarray\n",
    "cats"
   ]
  },
  {
   "cell_type": "code",
   "execution_count": 8,
   "metadata": {
    "ExecuteTime": {
     "end_time": "2021-02-25T13:05:54.979105Z",
     "start_time": "2021-02-25T13:05:54.969235Z"
    },
    "id": "hiQS9EY8FDOo"
   },
   "outputs": [
    {
     "data": {
      "text/plain": [
       "array([ 64,  23, 250, 137,  55, 173,  18, 134,  19,  47, 109, 164,  41,\n",
       "        78, 108, 108, 247, 105, 158,  54, 103,   4,  23, 102, 239,  72,\n",
       "        42,  21, 168, 109, 112, 177,  22, 233,  15, 236, 250, 137,  32,\n",
       "         5, 178, 109,  24, 107,  53, 241, 226, 143,   5, 136,  98, 100,\n",
       "        89,  66, 228,  92, 255,  88, 230,  56, 160,  69,   6,  24, 195,\n",
       "       183, 239,  35, 154, 154, 122,  18,  87, 106, 174,  69,  28,  60,\n",
       "       223, 101])"
      ]
     },
     "execution_count": 8,
     "metadata": {},
     "output_type": "execute_result"
    }
   ],
   "source": [
    "# Your code here:\n",
    "cats[0]"
   ]
  },
  {
   "cell_type": "markdown",
   "metadata": {
    "id": "9UvFnMgPFDOo"
   },
   "source": [
    "Using `matplotlib` we can plot a single cat or a single dog. We do this by reshaping the vector back to a 64x64 image and then using the `imshow` function.\n",
    "\n",
    "Run the code below to look at the first dog and the first cat."
   ]
  },
  {
   "cell_type": "code",
   "execution_count": 9,
   "metadata": {},
   "outputs": [
    {
     "data": {
      "text/plain": [
       "80"
      ]
     },
     "execution_count": 9,
     "metadata": {},
     "output_type": "execute_result"
    }
   ],
   "source": [
    "len(cats[0])"
   ]
  },
  {
   "cell_type": "code",
   "execution_count": 10,
   "metadata": {
    "id": "AcqumTdRFDOp",
    "outputId": "97aa7604-9987-474a-dd74-8a0b45cfbd79"
   },
   "outputs": [
    {
     "data": {
      "text/plain": [
       "<matplotlib.image.AxesImage at 0x7fcfc314ee50>"
      ]
     },
     "execution_count": 10,
     "metadata": {},
     "output_type": "execute_result"
    },
    {
     "data": {
      "image/png": "[encoded data removed]",
      "text/plain": [
       "<Figure size 432x288 with 1 Axes>"
      ]
     },
     "metadata": {
      "needs_background": "light"
     },
     "output_type": "display_data"
    }
   ],
   "source": [
    "# Run this code:\n",
    "fig, ax = plt.subplots()\n",
    "ax.imshow(np.asarray([cats[x,0] for x in range(0,len(cats))]).reshape(64, 64).T, cmap=plt.cm.bone, interpolation='nearest') "
   ]
  },
  {
   "cell_type": "code",
   "execution_count": 11,
   "metadata": {
    "id": "CZzjFZRdFDOp",
    "outputId": "4e5bd9ca-1742-4f29-c9bb-f893baf36747"
   },
   "outputs": [
    {
     "data": {
      "text/plain": [
       "<matplotlib.image.AxesImage at 0x7fcf5001bac0>"
      ]
     },
     "execution_count": 11,
     "metadata": {},
     "output_type": "execute_result"
    },
    {
     "data": {
      "image/png": "[encoded data removed]",
      "text/plain": [
       "<Figure size 432x288 with 1 Axes>"
      ]
     },
     "metadata": {
      "needs_background": "light"
     },
     "output_type": "display_data"
    }
   ],
   "source": [
    "# Run this code:\n",
    "\n",
    "fig, ax = plt.subplots()\n",
    "ax.imshow(np.asarray(dogs[:,0]).reshape(64, 64).T, cmap=plt.cm.bone, interpolation='nearest') \n"
   ]
  },
  {
   "cell_type": "markdown",
   "metadata": {
    "id": "bOFINuuHFDOq"
   },
   "source": [
    "Now, use the `np.concatenate` function to combine the cats and dogs arrays. Use `axis=1` to combine the two correctly. Make sure to put dogs first."
   ]
  },
  {
   "cell_type": "code",
   "execution_count": 12,
   "metadata": {
    "id": "V2VJM2NYFDOq"
   },
   "outputs": [
    {
     "data": {
      "text/plain": [
       "(4096, 160)"
      ]
     },
     "execution_count": 12,
     "metadata": {},
     "output_type": "execute_result"
    }
   ],
   "source": [
    "# Your code here:\n",
    "dc = np.concatenate((dogs, cats), axis=1)\n",
    "dc.shape"
   ]
  },
  {
   "cell_type": "markdown",
   "metadata": {
    "id": "PycXeWQNFDOp"
   },
   "source": [
    "Next, we would like to create a standardization function. This function will find the mean and standard deviation of each image. We subtract the mean from each pixel and divide each pixel by the standard deviation. Write the function below."
   ]
  },
  {
   "cell_type": "code",
   "execution_count": 13,
   "metadata": {
    "id": "7JM7-kq0FDOp"
   },
   "outputs": [],
   "source": [
    "#Your code here:\n",
    "\n",
    "def stand(x):\n",
    "    for i in range(x.shape[1]):\n",
    "        p_mean = np.mean(x[:, i])\n",
    "        p_std = np.std(x[:, i])\n",
    "        x[:, i] = (x[:, i] - p_mean) / p_std\n",
    "    return x"
   ]
  },
  {
   "cell_type": "code",
   "execution_count": 14,
   "metadata": {},
   "outputs": [
    {
     "data": {
      "text/plain": [
       "array([[ 2,  0,  0, ..., -1,  1,  0],\n",
       "       [ 2,  0,  1, ..., -2,  1,  0],\n",
       "       [ 2,  0,  0, ..., -1,  1,  0],\n",
       "       ...,\n",
       "       [ 0,  0,  0, ...,  0,  0,  0],\n",
       "       [ 0,  0,  0, ...,  0,  0,  0],\n",
       "       [ 0,  0,  0, ...,  0,  0,  0]])"
      ]
     },
     "execution_count": 14,
     "metadata": {},
     "output_type": "execute_result"
    }
   ],
   "source": [
    "de_prep = np.copy(dc)\n",
    "dc_stand = stand(de_prep)\n",
    "dc_stand"
   ]
  },
  {
   "cell_type": "code",
   "execution_count": 15,
   "metadata": {},
   "outputs": [
    {
     "data": {
      "text/plain": [
       "array([[224, 131, 127, ...,  60, 223, 101],\n",
       "       [224, 124, 136, ...,  50, 224, 107],\n",
       "       [224, 104, 127, ...,  63, 225, 106],\n",
       "       ...,\n",
       "       [100, 104, 115, ..., 105, 180, 114],\n",
       "       [100, 124, 104, ..., 118, 182,  91],\n",
       "       [100, 124, 104, ..., 104, 177, 113]])"
      ]
     },
     "execution_count": 15,
     "metadata": {},
     "output_type": "execute_result"
    }
   ],
   "source": [
    "dc"
   ]
  },
  {
   "cell_type": "code",
   "execution_count": 16,
   "metadata": {},
   "outputs": [
    {
     "data": {
      "text/plain": [
       "<matplotlib.image.AxesImage at 0x7fcf50051640>"
      ]
     },
     "execution_count": 16,
     "metadata": {},
     "output_type": "execute_result"
    },
    {
     "data": {
      "image/png": "[encoded data removed]",
      "text/plain": [
       "<Figure size 432x288 with 1 Axes>"
      ]
     },
     "metadata": {
      "needs_background": "light"
     },
     "output_type": "display_data"
    }
   ],
   "source": [
    "fig, ax = plt.subplots()\n",
    "ax.imshow(np.asarray(dc_stand[:,102]).reshape(64, 64).T, cmap=plt.cm.bone, interpolation='nearest')"
   ]
  },
  {
   "cell_type": "markdown",
   "metadata": {
    "id": "kRMcgTapFDOq"
   },
   "source": [
    "# Challenge 2 - Using PCA\n",
    "\n",
    "Now that we have created a standardized matrix of cats and dogs, we'll find the two most important components in the data.\n",
    "\n",
    "1. Load the `PCA` function from statsmodel. Create a PCA model with two components.\n",
    "You might need to transpose your data to get the right results."
   ]
  },
  {
   "cell_type": "code",
   "execution_count": 39,
   "metadata": {
    "id": "o6JKMVCpFDOq"
   },
   "outputs": [
    {
     "data": {
      "text/plain": [
       "array([[-0.12692522, -0.13069747],\n",
       "       [-0.12888318,  0.0166622 ],\n",
       "       [ 0.02638035,  0.02942792],\n",
       "       [-0.04075754,  0.11858896],\n",
       "       [-0.07276603, -0.04009964],\n",
       "       [ 0.00406832,  0.16151679],\n",
       "       [-0.04976018,  0.01308829],\n",
       "       [-0.07048121,  0.09432868],\n",
       "       [-0.06384201,  0.11634322],\n",
       "       [-0.10576089, -0.05699742],\n",
       "       [-0.00611212,  0.10626264],\n",
       "       [-0.07202418,  0.06072108],\n",
       "       [-0.02100131,  0.00436779],\n",
       "       [-0.0071214 ,  0.0193367 ],\n",
       "       [-0.07470011,  0.05656499],\n",
       "       [-0.08677383,  0.10379417],\n",
       "       [-0.0463318 , -0.02090129],\n",
       "       [-0.14044599,  0.03185525],\n",
       "       [-0.06760094,  0.05453679],\n",
       "       [-0.07887996,  0.13448372],\n",
       "       [ 0.01952759,  0.14061652],\n",
       "       [-0.02836786,  0.12821065],\n",
       "       [-0.01585913,  0.00260094],\n",
       "       [-0.06853882,  0.11865909],\n",
       "       [-0.11269829,  0.06975689],\n",
       "       [-0.00423844,  0.10045597],\n",
       "       [-0.00896664,  0.02624475],\n",
       "       [ 0.00042455,  0.07027949],\n",
       "       [-0.04949081,  0.15066984],\n",
       "       [-0.04835145,  0.05772259],\n",
       "       [-0.03769709,  0.05677697],\n",
       "       [-0.0364891 ,  0.04190677],\n",
       "       [-0.11956023,  0.06594254],\n",
       "       [-0.08660861,  0.09720917],\n",
       "       [ 0.01075982,  0.15007904],\n",
       "       [-0.05762381, -0.02618788],\n",
       "       [ 0.03549552,  0.1257378 ],\n",
       "       [-0.00897811,  0.09570081],\n",
       "       [ 0.00242352,  0.12661687],\n",
       "       [-0.10938846,  0.00512589],\n",
       "       [-0.07097839,  0.0860094 ],\n",
       "       [-0.00864927, -0.09512079],\n",
       "       [ 0.01019206,  0.11309867],\n",
       "       [-0.05774552,  0.06663408],\n",
       "       [ 0.01655994,  0.04526689],\n",
       "       [-0.0638947 , -0.10387271],\n",
       "       [-0.05137035, -0.03306037],\n",
       "       [ 0.00902902,  0.02332742],\n",
       "       [-0.0073804 , -0.05276667],\n",
       "       [ 0.0535507 ,  0.11043708],\n",
       "       [-0.09076459, -0.05036004],\n",
       "       [-0.102305  , -0.14290347],\n",
       "       [ 0.01476157, -0.05162223],\n",
       "       [ 0.05191723,  0.14822086],\n",
       "       [ 0.05816102, -0.01213673],\n",
       "       [ 0.04599098,  0.00152811],\n",
       "       [-0.07144564, -0.05918532],\n",
       "       [-0.05126881, -0.06719025],\n",
       "       [ 0.03333446,  0.12234374],\n",
       "       [-0.00213976,  0.08434577],\n",
       "       [-0.04082174,  0.11916828],\n",
       "       [-0.08536682, -0.09607879],\n",
       "       [-0.10792523, -0.06700438],\n",
       "       [ 0.05904519, -0.02812046],\n",
       "       [ 0.00906169,  0.02797609],\n",
       "       [-0.08732342, -0.01502447],\n",
       "       [-0.00566145, -0.09339963],\n",
       "       [ 0.10669695,  0.06991186],\n",
       "       [ 0.01845275, -0.03984809],\n",
       "       [-0.06351832,  0.09799059],\n",
       "       [ 0.01929847,  0.00776634],\n",
       "       [-0.02216681,  0.09435308],\n",
       "       [-0.09211791,  0.06009429],\n",
       "       [ 0.03395818,  0.09323015],\n",
       "       [-0.01282816, -0.10455034],\n",
       "       [-0.11306405, -0.11070337],\n",
       "       [-0.08328593,  0.01067446],\n",
       "       [ 0.00579794,  0.1241174 ],\n",
       "       [-0.00198793,  0.11681854],\n",
       "       [-0.14178571, -0.02657727],\n",
       "       [ 0.07684152, -0.05030577],\n",
       "       [ 0.14023357, -0.01542967],\n",
       "       [-0.08979093, -0.0532098 ],\n",
       "       [-0.11657277, -0.03177676],\n",
       "       [ 0.09025019, -0.07967596],\n",
       "       [ 0.08529148, -0.11306896],\n",
       "       [ 0.14340003,  0.00545107],\n",
       "       [ 0.044133  , -0.07307771],\n",
       "       [ 0.12964587, -0.05246414],\n",
       "       [ 0.07477897, -0.10746363],\n",
       "       [ 0.00289229, -0.04325815],\n",
       "       [ 0.0077859 , -0.04625696],\n",
       "       [ 0.15898093, -0.0349427 ],\n",
       "       [ 0.1091702 , -0.0771304 ],\n",
       "       [-0.05822741, -0.10615938],\n",
       "       [ 0.10203399, -0.08298585],\n",
       "       [-0.06984886, -0.07242702],\n",
       "       [ 0.11637329, -0.05090922],\n",
       "       [-0.13618626, -0.03363292],\n",
       "       [ 0.15733863, -0.02935814],\n",
       "       [ 0.03644383, -0.08243149],\n",
       "       [ 0.10816596,  0.00037455],\n",
       "       [ 0.09900659,  0.0496861 ],\n",
       "       [ 0.10110977,  0.14539724],\n",
       "       [-0.14207829, -0.09675414],\n",
       "       [-0.00085972,  0.06854119],\n",
       "       [ 0.0954838 , -0.0982159 ],\n",
       "       [ 0.08814531,  0.06687906],\n",
       "       [-0.05856358, -0.05655274],\n",
       "       [ 0.05331064, -0.08224236],\n",
       "       [ 0.01705109, -0.08142179],\n",
       "       [-0.00921061, -0.09296608],\n",
       "       [ 0.09098655, -0.12255708],\n",
       "       [-0.09192986, -0.07170864],\n",
       "       [ 0.16895812,  0.02077381],\n",
       "       [ 0.02243039,  0.00352776],\n",
       "       [-0.14843005, -0.03517811],\n",
       "       [ 0.13351614, -0.01208575],\n",
       "       [ 0.05760236,  0.0537497 ],\n",
       "       [ 0.03124209, -0.06534103],\n",
       "       [ 0.03503249, -0.07910945],\n",
       "       [ 0.08158088, -0.06435901],\n",
       "       [ 0.10671166,  0.0448677 ],\n",
       "       [ 0.05414998,  0.06690649],\n",
       "       [ 0.10268659,  0.07728858],\n",
       "       [-0.08191185, -0.07532537],\n",
       "       [-0.1009238 , -0.02658102],\n",
       "       [-0.07532139, -0.07374654],\n",
       "       [ 0.13831577,  0.04771733],\n",
       "       [ 0.03475759, -0.06765889],\n",
       "       [ 0.06799777, -0.04502599],\n",
       "       [ 0.04533711,  0.02643783],\n",
       "       [ 0.15248439, -0.06760571],\n",
       "       [ 0.12602052, -0.0858345 ],\n",
       "       [-0.04605033, -0.12473301],\n",
       "       [ 0.10951791, -0.08155388],\n",
       "       [ 0.11403395, -0.16126589],\n",
       "       [ 0.0553496 ,  0.01991424],\n",
       "       [-0.07811468, -0.14814836],\n",
       "       [ 0.05757279,  0.09876043],\n",
       "       [ 0.00437334, -0.0039595 ],\n",
       "       [ 0.03987528, -0.10850292],\n",
       "       [ 0.14259946, -0.06388329],\n",
       "       [ 0.10694435,  0.04541263],\n",
       "       [-0.04164813, -0.03615415],\n",
       "       [ 0.02463171, -0.09788341],\n",
       "       [-0.15502837, -0.08604063],\n",
       "       [ 0.04744951, -0.04555892],\n",
       "       [-0.05873545, -0.0498178 ],\n",
       "       [-0.08632647, -0.00077898],\n",
       "       [-0.04881579, -0.05985795],\n",
       "       [ 0.1140859 ,  0.01741358],\n",
       "       [ 0.03292214, -0.10216703],\n",
       "       [-0.00712956, -0.01929553],\n",
       "       [-0.03850724, -0.02100758],\n",
       "       [ 0.07222197,  0.04691488],\n",
       "       [ 0.06640616,  0.10685023],\n",
       "       [ 0.12607862,  0.05847586],\n",
       "       [-0.04787413, -0.00120414],\n",
       "       [ 0.03027847, -0.07438833]])"
      ]
     },
     "execution_count": 39,
     "metadata": {},
     "output_type": "execute_result"
    }
   ],
   "source": [
    "# Your code here:\n",
    "from statsmodels.multivariate.pca import PCA\n",
    "components1= PCA(dc_stand.T, ncomp=2)\n",
    "components1.factors"
   ]
  },
  {
   "cell_type": "markdown",
   "metadata": {
    "id": "HJ0il4Ggehd3"
   },
   "source": [
    "2.  And now lets do the same with sklearn library."
   ]
  },
  {
   "cell_type": "code",
   "execution_count": 37,
   "metadata": {
    "id": "aXde8FwZFDOr"
   },
   "outputs": [
    {
     "data": {
      "text/plain": [
       "array([[ 2.87110316e+01,  1.81156224e+01],\n",
       "       [ 2.35876698e+01, -8.60241977e+00],\n",
       "       [-6.25011171e+00,  1.40661386e-02],\n",
       "       [ 4.15210445e+00, -1.86779997e+01],\n",
       "       [ 1.55528756e+01, -3.48185714e-01],\n",
       "       [-4.93141425e+00, -2.42692228e+01],\n",
       "       [ 1.02934386e+01, -3.20360210e+00],\n",
       "       [ 1.13429530e+01, -1.70641526e+01],\n",
       "       [ 9.19733527e+00, -2.02722509e+01],\n",
       "       [ 2.07340720e+01,  5.28355603e+00],\n",
       "       [-2.12372242e+00, -1.63099602e+01],\n",
       "       [ 1.27094360e+01, -1.20208464e+01],\n",
       "       [ 3.81267921e+00, -2.54256266e+00],\n",
       "       [ 1.99424761e-01, -8.61820455e-01],\n",
       "       [ 1.14740301e+01, -1.02508058e+01],\n",
       "       [ 1.44066749e+01, -1.75955638e+01],\n",
       "       [ 9.27944458e+00,  1.14256865e-01],\n",
       "       [ 2.55182055e+01, -8.51617627e+00],\n",
       "       [ 1.17061595e+01, -1.16193717e+01],\n",
       "       [ 1.15473566e+01, -2.15805623e+01],\n",
       "       [-6.36388703e+00, -2.06430033e+01],\n",
       "       [ 1.56399155e+00, -1.91510267e+01],\n",
       "       [ 4.60996605e+00,  2.12766548e+00],\n",
       "       [ 1.04595749e+01, -2.07274450e+01],\n",
       "       [ 1.97352029e+01, -1.57006177e+01],\n",
       "       [-1.56572800e+00, -1.69443616e+01],\n",
       "       [ 3.65383535e-01, -3.92694032e-01],\n",
       "       [-1.39903792e+00, -9.44184775e+00],\n",
       "       [ 4.78780283e+00, -2.53605430e+01],\n",
       "       [ 6.51502729e+00, -7.53767014e+00],\n",
       "       [ 3.39966780e+00, -9.76411105e+00],\n",
       "       [ 5.25852235e+00, -8.92662431e+00],\n",
       "       [ 2.11092083e+01, -1.31702516e+01],\n",
       "       [ 1.24292449e+01, -1.83007629e+01],\n",
       "       [-6.15629957e+00, -2.12827812e+01],\n",
       "       [ 9.91937742e+00, -1.12261980e+00],\n",
       "       [-1.14049656e+01, -1.94448271e+01],\n",
       "       [-2.41950234e+00, -1.52070000e+01],\n",
       "       [-4.52333836e+00, -1.96875600e+01],\n",
       "       [ 1.99034286e+01, -6.06830149e+00],\n",
       "       [ 1.17500712e+01, -1.57674315e+01],\n",
       "       [ 4.03543128e+00,  1.67359187e+01],\n",
       "       [-7.85905701e+00, -2.22269477e+01],\n",
       "       [ 1.27930928e+01, -1.47997664e+01],\n",
       "       [-3.76277949e+00, -4.72219386e+00],\n",
       "       [ 1.48377353e+01,  1.25034755e+01],\n",
       "       [ 8.80039015e+00, -1.61275718e+00],\n",
       "       [-2.24995118e+00, -4.61101210e+00],\n",
       "       [ 6.10268297e+00,  4.70178170e+00],\n",
       "       [-1.35670456e+01, -1.61428850e+01],\n",
       "       [ 1.84293207e+01,  4.73115835e+00],\n",
       "       [ 2.97257748e+01,  2.58275964e+01],\n",
       "       [-1.02245493e+00,  1.03516262e+01],\n",
       "       [-1.36652618e+01, -2.19862180e+01],\n",
       "       [-1.08988940e+01,  6.85538958e+00],\n",
       "       [-9.58559793e+00, -6.33539738e-01],\n",
       "       [ 1.35812903e+01,  6.96248415e+00],\n",
       "       [ 9.34931528e+00,  9.26620325e+00],\n",
       "       [-1.20183463e+01, -1.29069444e+01],\n",
       "       [-2.36308051e+00, -9.54301512e+00],\n",
       "       [ 5.65929097e+00, -2.12857218e+01],\n",
       "       [ 1.88318600e+01,  1.15653008e+01],\n",
       "       [ 2.40484941e+01,  5.78112822e+00],\n",
       "       [-1.13180688e+01,  7.87171099e+00],\n",
       "       [-3.65068963e+00, -6.81675609e+00],\n",
       "       [ 1.92946749e+01, -1.00084234e-01],\n",
       "       [ 5.13291402e+00,  1.52397517e+01],\n",
       "       [-2.22810725e+01, -5.19263201e+00],\n",
       "       [-1.14849935e+00,  3.52478543e+00],\n",
       "       [ 9.72546012e+00, -1.36811654e+01],\n",
       "       [-3.62138725e+00, -3.92537310e+00],\n",
       "       [ 3.21336568e+00, -1.22905381e+01],\n",
       "       [ 1.60712188e+01, -1.18860626e+01],\n",
       "       [-1.08977121e+01, -1.58956952e+01],\n",
       "       [ 4.81462356e+00,  1.56518821e+01],\n",
       "       [ 2.59085090e+01,  1.26964293e+01],\n",
       "       [ 1.64368430e+01, -4.11673314e+00],\n",
       "       [-5.73166996e+00, -1.66031228e+01],\n",
       "       [-4.08594821e+00, -2.03786197e+01],\n",
       "       [ 2.81007312e+01,  2.66175720e+00],\n",
       "       [-1.26612324e+01,  1.25014191e+01],\n",
       "       [-2.85591171e+01,  4.32033508e+00],\n",
       "       [ 2.16517970e+01,  8.10570323e+00],\n",
       "       [ 2.37133157e+01,  2.46804692e+00],\n",
       "       [-1.51532813e+01,  1.86728085e+01],\n",
       "       [-1.32916048e+01,  1.99568179e+01],\n",
       "       [-2.91220512e+01,  1.58404037e+00],\n",
       "       [-8.19581610e+00,  1.24985035e+01],\n",
       "       [-2.64819100e+01,  9.16996165e+00],\n",
       "       [-1.09943669e+01,  1.33624559e+01],\n",
       "       [ 2.64961296e+00,  4.11934588e+00],\n",
       "       [-9.47873837e-01,  6.64516346e+00],\n",
       "       [-3.29512584e+01,  9.17721292e+00],\n",
       "       [-1.82175885e+01,  1.80776402e+01],\n",
       "       [ 1.54991625e+01,  1.21098020e+01],\n",
       "       [-1.74904343e+01,  1.54068375e+01],\n",
       "       [ 1.84332788e+01,  9.82843301e+00],\n",
       "       [-2.26695622e+01,  1.32120437e+01],\n",
       "       [ 2.87679744e+01,  1.87154825e-01],\n",
       "       [-3.13751853e+01,  8.96333084e+00],\n",
       "       [-4.65214200e+00,  1.47561642e+01],\n",
       "       [-2.22683154e+01,  3.95184701e+00],\n",
       "       [-2.27851582e+01, -1.64864587e+00],\n",
       "       [-2.34774752e+01, -1.59188978e+01],\n",
       "       [ 3.56645020e+01,  1.47706080e+01],\n",
       "       [-1.98882879e+00, -5.10154497e+00],\n",
       "       [-1.55617684e+01,  1.74754569e+01],\n",
       "       [-2.22224708e+01, -9.20801429e+00],\n",
       "       [ 1.31679434e+01,  6.38921960e+00],\n",
       "       [-8.91988439e+00,  1.27844849e+01],\n",
       "       [-6.69679381e-02,  1.32576850e+01],\n",
       "       [ 6.43511186e+00,  1.85965010e+01],\n",
       "       [-1.45440592e+01,  2.13148242e+01],\n",
       "       [ 2.24984520e+01,  1.01896120e+01],\n",
       "       [-3.68595463e+01, -3.91988266e-01],\n",
       "       [-6.44631803e+00, -1.07081702e+00],\n",
       "       [ 3.49375093e+01,  3.88208413e+00],\n",
       "       [-2.59572039e+01,  6.88659193e+00],\n",
       "       [-1.63666094e+01, -8.08201045e+00],\n",
       "       [-3.60057499e+00,  1.06208506e+01],\n",
       "       [-4.05594171e+00,  8.54992451e+00],\n",
       "       [-1.15289104e+01,  1.41102177e+01],\n",
       "       [-2.51307089e+01, -4.84857070e+00],\n",
       "       [-1.38967386e+01, -1.19110880e+01],\n",
       "       [-2.45829028e+01, -9.75818677e+00],\n",
       "       [ 1.97455220e+01,  8.28886783e+00],\n",
       "       [ 2.22425709e+01,  3.17386115e+00],\n",
       "       [ 1.85799335e+01,  6.34542235e+00],\n",
       "       [-2.84011508e+01, -3.48551030e+00],\n",
       "       [-4.90866887e+00,  7.49604329e+00],\n",
       "       [-1.01541016e+01,  1.11548037e+01],\n",
       "       [-1.13761696e+01, -4.89558590e+00],\n",
       "       [-2.82907686e+01,  1.53490628e+01],\n",
       "       [-2.15804975e+01,  1.35451503e+01],\n",
       "       [ 1.38361032e+01,  1.51208356e+01],\n",
       "       [-1.97929080e+01,  1.52125750e+01],\n",
       "       [-1.76174687e+01,  2.37261636e+01],\n",
       "       [-9.69057897e+00,  4.01887900e-01],\n",
       "       [ 2.25289868e+01,  2.27781688e+01],\n",
       "       [-1.41085657e+01, -1.15858418e+01],\n",
       "       [-2.97540408e+00,  1.66716014e+00],\n",
       "       [-6.15010855e+00,  1.72361722e+01],\n",
       "       [-2.90098923e+01,  1.24615219e+01],\n",
       "       [-2.32018321e+01, -4.06421112e+00],\n",
       "       [ 9.74350260e+00,  2.14102867e+00],\n",
       "       [-8.21158398e-01,  1.40041915e+01],\n",
       "       [ 3.75274898e+01,  1.16998903e+01],\n",
       "       [-7.46099359e+00,  6.04171367e+00],\n",
       "       [ 1.54912456e+01,  5.92358220e+00],\n",
       "       [ 1.64163724e+01, -7.51745284e-01],\n",
       "       [ 1.25422921e+01,  9.32351463e+00],\n",
       "       [-2.30819474e+01, -1.60528187e+00],\n",
       "       [-4.75814401e+00,  1.84087976e+01],\n",
       "       [ 1.51779201e-01,  5.13678764e+00],\n",
       "       [ 8.99565275e+00,  2.96059704e+00],\n",
       "       [-1.31870906e+01, -3.93078233e+00],\n",
       "       [-1.58558027e+01, -1.21660604e+01],\n",
       "       [-3.04026758e+01, -6.65135535e+00],\n",
       "       [ 1.33116055e+01,  3.39208186e-01],\n",
       "       [-2.74083700e+00,  1.03872230e+01]])"
      ]
     },
     "execution_count": 37,
     "metadata": {},
     "output_type": "execute_result"
    }
   ],
   "source": [
    "from sklearn.decomposition import PCA\n",
    "pca = PCA(n_components=2)\n",
    "components2 = pca.fit_transform(dc_stand.T)\n",
    "components2"
   ]
  },
  {
   "cell_type": "markdown",
   "metadata": {
    "id": "no-JSnrxFDOr"
   },
   "source": [
    "# Challenge 3 - Plotting the Data\n",
    "\n",
    "Now that we have reduced our cats and dogs arrays, we can easily plot the data in a way that the human eye can understand. We can look at this plot to see whether there are differences between the cat and dog images. \n",
    "\n",
    "In the cell below, turn the two dimensional projection into a pandas dataframe and name the columns `pc1`, and `pc2` respectively."
   ]
  },
  {
   "cell_type": "code",
   "execution_count": 30,
   "metadata": {
    "id": "65tZL3XTFDOr"
   },
   "outputs": [
    {
     "data": {
      "text/html": [
       "<div>\n",
       "<style scoped>\n",
       "    .dataframe tbody tr th:only-of-type {\n",
       "        vertical-align: middle;\n",
       "    }\n",
       "\n",
       "    .dataframe tbody tr th {\n",
       "        vertical-align: top;\n",
       "    }\n",
       "\n",
       "    .dataframe thead th {\n",
       "        text-align: right;\n",
       "    }\n",
       "</style>\n",
       "<table border=\"1\" class=\"dataframe\">\n",
       "  <thead>\n",
       "    <tr style=\"text-align: right;\">\n",
       "      <th></th>\n",
       "      <th>pca1</th>\n",
       "      <th>pca2</th>\n",
       "    </tr>\n",
       "  </thead>\n",
       "  <tbody>\n",
       "    <tr>\n",
       "      <th>0</th>\n",
       "      <td>28.711032</td>\n",
       "      <td>18.115625</td>\n",
       "    </tr>\n",
       "    <tr>\n",
       "      <th>1</th>\n",
       "      <td>23.587670</td>\n",
       "      <td>-8.602390</td>\n",
       "    </tr>\n",
       "    <tr>\n",
       "      <th>2</th>\n",
       "      <td>-6.250112</td>\n",
       "      <td>0.014067</td>\n",
       "    </tr>\n",
       "    <tr>\n",
       "      <th>3</th>\n",
       "      <td>4.152104</td>\n",
       "      <td>-18.678010</td>\n",
       "    </tr>\n",
       "    <tr>\n",
       "      <th>4</th>\n",
       "      <td>15.552876</td>\n",
       "      <td>-0.348207</td>\n",
       "    </tr>\n",
       "    <tr>\n",
       "      <th>...</th>\n",
       "      <td>...</td>\n",
       "      <td>...</td>\n",
       "    </tr>\n",
       "    <tr>\n",
       "      <th>155</th>\n",
       "      <td>-13.187091</td>\n",
       "      <td>-3.930789</td>\n",
       "    </tr>\n",
       "    <tr>\n",
       "      <th>156</th>\n",
       "      <td>-15.855803</td>\n",
       "      <td>-12.166086</td>\n",
       "    </tr>\n",
       "    <tr>\n",
       "      <th>157</th>\n",
       "      <td>-30.402676</td>\n",
       "      <td>-6.651352</td>\n",
       "    </tr>\n",
       "    <tr>\n",
       "      <th>158</th>\n",
       "      <td>13.311606</td>\n",
       "      <td>0.339239</td>\n",
       "    </tr>\n",
       "    <tr>\n",
       "      <th>159</th>\n",
       "      <td>-2.740837</td>\n",
       "      <td>10.387227</td>\n",
       "    </tr>\n",
       "  </tbody>\n",
       "</table>\n",
       "<p>160 rows × 2 columns</p>\n",
       "</div>"
      ],
      "text/plain": [
       "          pca1       pca2\n",
       "0    28.711032  18.115625\n",
       "1    23.587670  -8.602390\n",
       "2    -6.250112   0.014067\n",
       "3     4.152104 -18.678010\n",
       "4    15.552876  -0.348207\n",
       "..         ...        ...\n",
       "155 -13.187091  -3.930789\n",
       "156 -15.855803 -12.166086\n",
       "157 -30.402676  -6.651352\n",
       "158  13.311606   0.339239\n",
       "159  -2.740837  10.387227\n",
       "\n",
       "[160 rows x 2 columns]"
      ]
     },
     "execution_count": 30,
     "metadata": {},
     "output_type": "execute_result"
    }
   ],
   "source": [
    "# Your code here:\n",
    "df = pd.DataFrame(components2)\n",
    "df.columns =['pca1','pca2']\n",
    "df"
   ]
  },
  {
   "cell_type": "markdown",
   "metadata": {
    "id": "a77mi_VUFDOr"
   },
   "source": [
    "Create a labels list. This list will be of size 160. The first 80 elements in the list will be the word `blue`, and the last 80 elements will be `red`. This will ensure that all dog observations will be colored in blue and all cats will be colored in red. Name this list `colors`."
   ]
  },
  {
   "cell_type": "code",
   "execution_count": 33,
   "metadata": {
    "ExecuteTime": {
     "end_time": "2021-02-25T13:07:40.558939Z",
     "start_time": "2021-02-25T13:07:40.547968Z"
    },
    "id": "uEOkkp9aFDOr"
   },
   "outputs": [],
   "source": [
    "# Your code here:\n",
    "blue = ['blue']*80\n",
    "red = ['red']*80\n",
    "lables = blue + red\n",
    "# blue = dogs, red = cats"
   ]
  },
  {
   "cell_type": "markdown",
   "metadata": {
    "id": "3IrkGs-gFDOr"
   },
   "source": [
    "Create a scatter plot of `pc1` and `pc2` below. Use the `colors` list above to color the observations by setting `c=colors`."
   ]
  },
  {
   "cell_type": "code",
   "execution_count": 35,
   "metadata": {
    "ExecuteTime": {
     "end_time": "2021-02-25T13:07:44.414315Z",
     "start_time": "2021-02-25T13:07:44.398349Z"
    },
    "id": "-AbrrG-TFDOr"
   },
   "outputs": [
    {
     "data": {
      "text/plain": [
       "<AxesSubplot:xlabel='pca1', ylabel='pca2'>"
      ]
     },
     "execution_count": 35,
     "metadata": {},
     "output_type": "execute_result"
    },
    {
     "data": {
      "image/png": "[encoded data removed]",
      "text/plain": [
       "<Figure size 432x288 with 1 Axes>"
      ]
     },
     "metadata": {
      "needs_background": "light"
     },
     "output_type": "display_data"
    }
   ],
   "source": [
    "# Your code here:\n",
    "import seaborn as sns \n",
    "import matplotlib.pyplot as plt\n",
    "\n",
    "df.plot.scatter(x='pca1', y='pca2', c=lables)"
   ]
  },
  {
   "cell_type": "markdown",
   "metadata": {
    "id": "I-meGOYBFDOs"
   },
   "source": [
    "Do you see a clear separation between cats and dogs? Write your answer below."
   ]
  },
  {
   "cell_type": "code",
   "execution_count": null,
   "metadata": {
    "ExecuteTime": {
     "end_time": "2021-02-25T13:07:49.361753Z",
     "start_time": "2021-02-25T13:07:49.348769Z"
    },
    "id": "nBPHDwtIFDOs"
   },
   "outputs": [],
   "source": [
    "# Your conclusions here:\n",
    "# There is slight difference between cats and dogs, also some intersection"
   ]
  },
  {
   "cell_type": "markdown",
   "metadata": {
    "id": "Qe4Em6IRevAK"
   },
   "source": [
    "TSNE"
   ]
  },
  {
   "cell_type": "code",
   "execution_count": 40,
   "metadata": {
    "id": "1DqU2K1zFDOs"
   },
   "outputs": [],
   "source": [
    "# Your code here:\n",
    "from sklearn.manifold import TSNE"
   ]
  },
  {
   "cell_type": "markdown",
   "metadata": {
    "id": "5HvnGNv5e3GZ"
   },
   "source": [
    "And now let's use t-SNE to reduce the dimensions till 2 components"
   ]
  },
  {
   "cell_type": "code",
   "execution_count": 45,
   "metadata": {
    "id": "WOe6hJyNezfs"
   },
   "outputs": [
    {
     "name": "stdout",
     "output_type": "stream",
     "text": [
      "[t-SNE] Computing 121 nearest neighbors...\n",
      "[t-SNE] Indexed 160 samples in 0.000s...\n",
      "[t-SNE] Computed neighbors for 160 samples in 0.016s...\n",
      "[t-SNE] Computed conditional probabilities for sample 160 / 160\n",
      "[t-SNE] Mean sigma: 10.136090\n",
      "[t-SNE] KL divergence after 250 iterations with early exaggeration: 53.383156\n",
      "[t-SNE] KL divergence after 300 iterations: 0.373119\n"
     ]
    },
    {
     "data": {
      "text/plain": [
       "array([[ 13.1521435 ,   4.6133256 ],\n",
       "       [  6.85702   ,   5.7957067 ],\n",
       "       [ -0.63451475,  -3.0496752 ],\n",
       "       [  0.29521888,   4.452209  ],\n",
       "       [  7.8514457 ,   2.7790294 ],\n",
       "       [ -2.4668167 ,   4.112938  ],\n",
       "       [  5.843129  ,   2.3219326 ],\n",
       "       [  2.5728216 ,   5.024503  ],\n",
       "       [  1.8400564 ,   4.6071253 ],\n",
       "       [ 10.080657  ,   3.3291028 ],\n",
       "       [ -0.84811956,   2.939181  ],\n",
       "       [  3.929405  ,   6.0553837 ],\n",
       "       [  2.329527  ,  -0.31975532],\n",
       "       [  1.2046736 ,  -1.9479157 ],\n",
       "       [  3.6482859 ,   6.805813  ],\n",
       "       [  4.042242  ,   4.708616  ],\n",
       "       [  6.2352343 ,   0.83046114],\n",
       "       [  7.6373253 ,   5.8567314 ],\n",
       "       [  3.19518   ,   6.4779525 ],\n",
       "       [  2.9288929 ,   3.852099  ],\n",
       "       [ -2.7640812 ,   2.5538702 ],\n",
       "       [ -0.71824944,   4.2974105 ],\n",
       "       [  4.872922  ,  -0.9259398 ],\n",
       "       [  2.313308  ,   4.2088695 ],\n",
       "       [  5.100214  ,   5.2312555 ],\n",
       "       [ -0.81673753,   3.561698  ],\n",
       "       [  1.7519658 ,  -2.2960467 ],\n",
       "       [  0.43897524,   1.0861315 ],\n",
       "       [  1.2360009 ,   3.3826792 ],\n",
       "       [  1.6715615 ,   6.656867  ],\n",
       "       [  0.43745014,   6.0583334 ],\n",
       "       [  1.16555   ,   6.075548  ],\n",
       "       [  5.7250867 ,   5.9294434 ],\n",
       "       [  3.2967687 ,   4.5893383 ],\n",
       "       [ -2.7182503 ,   3.2049294 ],\n",
       "       [  6.428042  ,   1.663742  ],\n",
       "       [ -3.6216326 ,   1.8269111 ],\n",
       "       [ -0.6562058 ,   2.455774  ],\n",
       "       [ -1.9950585 ,   2.7980702 ],\n",
       "       [  7.1179304 ,   4.8990035 ],\n",
       "       [  2.9375525 ,   5.5020785 ],\n",
       "       [ -7.6521473 ,  -3.5646727 ],\n",
       "       [ -3.4744308 ,   3.3329751 ],\n",
       "       [  3.6858988 ,   5.4548492 ],\n",
       "       [ -0.05780489,  -0.8928743 ],\n",
       "       [ 11.46493   ,   0.9817416 ],\n",
       "       [  5.4848433 ,   1.274524  ],\n",
       "       [  0.43080005,  -1.1838002 ],\n",
       "       [  6.2567115 ,  -0.7938092 ],\n",
       "       [ -4.187722  ,   0.82281184],\n",
       "       [  9.36174   ,   2.9377906 ],\n",
       "       [ 14.314766  ,   3.588118  ],\n",
       "       [ -6.245552  ,  -3.558248  ],\n",
       "       [ -4.331915  ,   2.1801248 ],\n",
       "       [ -6.4364038 ,  -5.9885764 ],\n",
       "       [ -1.6039673 ,  -2.819396  ],\n",
       "       [  9.541103  ,   1.1366305 ],\n",
       "       [  8.960429  ,  -0.27193907],\n",
       "       [ -2.8711739 ,   0.29536283],\n",
       "       [ -0.4010873 ,   0.70455146],\n",
       "       [  1.0288105 ,   4.2085934 ],\n",
       "       [ 11.6664505 ,   1.7903624 ],\n",
       "       [ 10.939217  ,   4.2850513 ],\n",
       "       [ -6.702892  ,  -6.694133  ],\n",
       "       [ -0.33752215,  -0.13688338],\n",
       "       [  8.443758  ,   3.9012668 ],\n",
       "       [  3.9096668 ,  -5.2196136 ],\n",
       "       [ -3.5900784 ,  -5.494368  ],\n",
       "       [  0.71826905,  -3.9406233 ],\n",
       "       [  2.4134755 ,   5.962312  ],\n",
       "       [  0.08556435,  -1.7890399 ],\n",
       "       [  0.13523708,   5.2136245 ],\n",
       "       [  4.8132954 ,   6.148654  ],\n",
       "       [ -3.1454363 ,   1.1705909 ],\n",
       "       [ -7.781342  ,  -2.1448436 ],\n",
       "       [ 12.218535  ,   3.7522016 ],\n",
       "       [  6.9206195 ,   3.8072524 ],\n",
       "       [ -1.8517466 ,   1.8529317 ],\n",
       "       [ -1.8321956 ,   3.6611586 ],\n",
       "       [ 10.707902  ,   5.181923  ],\n",
       "       [ -7.637492  ,  -7.078416  ],\n",
       "       [ -5.0846305 ,  -9.459441  ],\n",
       "       [ 10.891595  ,   3.3531396 ],\n",
       "       [ 10.366759  ,   4.315121  ],\n",
       "       [ -9.259502  ,  -8.303709  ],\n",
       "       [ -9.496195  ,  -7.4139414 ],\n",
       "       [ -4.393013  ,  -8.99297   ],\n",
       "       [ -7.864975  ,  -6.0409627 ],\n",
       "       [ -6.416284  ,  -9.639453  ],\n",
       "       [ -8.130925  ,  -6.8879557 ],\n",
       "       [  3.7014532 ,  -2.0613008 ],\n",
       "       [  0.63794434,  -4.85566   ],\n",
       "       [ -5.32835   , -10.69034   ],\n",
       "       [ -9.068527  ,  -9.2406435 ],\n",
       "       [ 10.899183  ,   1.0641313 ],\n",
       "       [ -8.30382   ,  -8.497752  ],\n",
       "       [ 10.909538  ,   2.0419495 ],\n",
       "       [ -7.3452907 ,  -9.576684  ],\n",
       "       [  9.792431  ,   5.356858  ],\n",
       "       [ -5.842692  , -10.392982  ],\n",
       "       [ -7.9147487 ,  -5.086276  ],\n",
       "       [ -5.635882  ,  -8.444165  ],\n",
       "       [ -4.1261625 ,  -7.3803506 ],\n",
       "       [ -4.5570574 ,  -2.0599113 ],\n",
       "       [ 13.144766  ,   3.7610552 ],\n",
       "       [  0.90859044,  -0.3093548 ],\n",
       "       [ -8.569364  ,  -8.061479  ],\n",
       "       [ -3.9325728 ,  -3.5382824 ],\n",
       "       [  8.776961  ,   1.0409633 ],\n",
       "       [ -2.8433971 ,  -7.3208942 ],\n",
       "       [ -0.3423189 ,  -6.4359064 ],\n",
       "       [  5.3468895 ,  -5.212016  ],\n",
       "       [-10.163896  ,  -8.11125   ],\n",
       "       [ 11.674063  ,   3.03993   ],\n",
       "       [ -4.1173625 , -10.025515  ],\n",
       "       [ -0.7083298 ,  -2.177996  ],\n",
       "       [ 11.675177  ,   5.4640827 ],\n",
       "       [ -5.8140197 ,  -9.373062  ],\n",
       "       [ -3.391089  ,  -1.8227599 ],\n",
       "       [ -6.869099  ,  -4.8759727 ],\n",
       "       [ -1.1620945 ,  -5.382368  ],\n",
       "       [ -8.627868  ,  -7.07615   ],\n",
       "       [ -4.2378116 ,  -6.3364496 ],\n",
       "       [ -3.746398  ,  -0.18446267],\n",
       "       [ -3.6417642 ,  -4.667204  ],\n",
       "       [ 10.982346  ,   2.603827  ],\n",
       "       [  9.733954  ,   4.330631  ],\n",
       "       [ 10.027072  ,   2.4337337 ],\n",
       "       [ -4.4576926 ,  -8.124558  ],\n",
       "       [ -1.7296879 ,  -5.105457  ],\n",
       "       [ -7.250545  ,  -6.60681   ],\n",
       "       [ -2.058519  ,  -1.5648036 ],\n",
       "       [ -7.5304074 , -10.787645  ],\n",
       "       [ -7.940289  ,  -9.867866  ],\n",
       "       [ 12.245952  ,   0.45045704],\n",
       "       [ -8.153533  ,  -9.232826  ],\n",
       "       [ -9.782882  ,  -9.543507  ],\n",
       "       [ -1.8516065 ,  -3.3701634 ],\n",
       "       [ 14.2169485 ,   4.286637  ],\n",
       "       [ -3.1649687 ,  -0.5652871 ],\n",
       "       [  0.3735916 ,  -3.1468964 ],\n",
       "       [ -9.046796  ,  -6.0438724 ],\n",
       "       [ -6.6803026 , -10.764656  ],\n",
       "       [ -3.7312129 ,  -6.2170815 ],\n",
       "       [  7.245551  ,   0.86062604],\n",
       "       [ -1.3967307 ,  -6.999754  ],\n",
       "       [ 13.224761  ,   3.1429546 ],\n",
       "       [ -5.3488708 ,  -5.2223806 ],\n",
       "       [  9.376784  ,   1.7600958 ],\n",
       "       [  7.8818526 ,   3.3483195 ],\n",
       "       [  9.9876    ,   0.41633528],\n",
       "       [ -4.629055  ,  -7.528113  ],\n",
       "       [ -1.8371078 ,  -8.435712  ],\n",
       "       [  1.9441906 ,  -3.9624596 ],\n",
       "       [  7.101506  ,   0.20581272],\n",
       "       [ -2.6334674 ,  -2.45903   ],\n",
       "       [ -4.243137  ,  -0.75297177],\n",
       "       [ -4.7092032 ,  -6.841265  ],\n",
       "       [  7.498441  ,   2.017816  ],\n",
       "       [ -6.1875877 ,  -4.5259986 ]], dtype=float32)"
      ]
     },
     "execution_count": 45,
     "metadata": {},
     "output_type": "execute_result"
    }
   ],
   "source": [
    "# Your code here:\n",
    "tsne = TSNE(n_components=2, verbose=1, perplexity=40, n_iter=300)\n",
    "df_tsne = tsne.fit_transform(df)\n",
    "df_tsne"
   ]
  },
  {
   "cell_type": "markdown",
   "metadata": {
    "id": "s7uiHdrWe7vp"
   },
   "source": [
    "How many information we can describe with 2 components?"
   ]
  },
  {
   "cell_type": "code",
   "execution_count": 46,
   "metadata": {
    "id": "fJSJ3tiie5Ou"
   },
   "outputs": [
    {
     "data": {
      "text/html": [
       "<div>\n",
       "<style scoped>\n",
       "    .dataframe tbody tr th:only-of-type {\n",
       "        vertical-align: middle;\n",
       "    }\n",
       "\n",
       "    .dataframe tbody tr th {\n",
       "        vertical-align: top;\n",
       "    }\n",
       "\n",
       "    .dataframe thead th {\n",
       "        text-align: right;\n",
       "    }\n",
       "</style>\n",
       "<table border=\"1\" class=\"dataframe\">\n",
       "  <thead>\n",
       "    <tr style=\"text-align: right;\">\n",
       "      <th></th>\n",
       "      <th>tsne1</th>\n",
       "      <th>tsne2</th>\n",
       "    </tr>\n",
       "  </thead>\n",
       "  <tbody>\n",
       "    <tr>\n",
       "      <th>0</th>\n",
       "      <td>13.152143</td>\n",
       "      <td>4.613326</td>\n",
       "    </tr>\n",
       "    <tr>\n",
       "      <th>1</th>\n",
       "      <td>6.857020</td>\n",
       "      <td>5.795707</td>\n",
       "    </tr>\n",
       "    <tr>\n",
       "      <th>2</th>\n",
       "      <td>-0.634515</td>\n",
       "      <td>-3.049675</td>\n",
       "    </tr>\n",
       "    <tr>\n",
       "      <th>3</th>\n",
       "      <td>0.295219</td>\n",
       "      <td>4.452209</td>\n",
       "    </tr>\n",
       "    <tr>\n",
       "      <th>4</th>\n",
       "      <td>7.851446</td>\n",
       "      <td>2.779029</td>\n",
       "    </tr>\n",
       "    <tr>\n",
       "      <th>...</th>\n",
       "      <td>...</td>\n",
       "      <td>...</td>\n",
       "    </tr>\n",
       "    <tr>\n",
       "      <th>155</th>\n",
       "      <td>-2.633467</td>\n",
       "      <td>-2.459030</td>\n",
       "    </tr>\n",
       "    <tr>\n",
       "      <th>156</th>\n",
       "      <td>-4.243137</td>\n",
       "      <td>-0.752972</td>\n",
       "    </tr>\n",
       "    <tr>\n",
       "      <th>157</th>\n",
       "      <td>-4.709203</td>\n",
       "      <td>-6.841265</td>\n",
       "    </tr>\n",
       "    <tr>\n",
       "      <th>158</th>\n",
       "      <td>7.498441</td>\n",
       "      <td>2.017816</td>\n",
       "    </tr>\n",
       "    <tr>\n",
       "      <th>159</th>\n",
       "      <td>-6.187588</td>\n",
       "      <td>-4.525999</td>\n",
       "    </tr>\n",
       "  </tbody>\n",
       "</table>\n",
       "<p>160 rows × 2 columns</p>\n",
       "</div>"
      ],
      "text/plain": [
       "         tsne1     tsne2\n",
       "0    13.152143  4.613326\n",
       "1     6.857020  5.795707\n",
       "2    -0.634515 -3.049675\n",
       "3     0.295219  4.452209\n",
       "4     7.851446  2.779029\n",
       "..         ...       ...\n",
       "155  -2.633467 -2.459030\n",
       "156  -4.243137 -0.752972\n",
       "157  -4.709203 -6.841265\n",
       "158   7.498441  2.017816\n",
       "159  -6.187588 -4.525999\n",
       "\n",
       "[160 rows x 2 columns]"
      ]
     },
     "execution_count": 46,
     "metadata": {},
     "output_type": "execute_result"
    }
   ],
   "source": [
    "df2 = pd.DataFrame(df_tsne)\n",
    "df2.columns =['tsne1','tsne2']\n",
    "df2\n",
    "# it's more or less the same results with pca, 2 clusters a bit different and intersected"
   ]
  },
  {
   "cell_type": "markdown",
   "metadata": {
    "id": "WTf4b5ePe-rx"
   },
   "source": [
    "Create a scatter plott"
   ]
  },
  {
   "cell_type": "code",
   "execution_count": 50,
   "metadata": {
    "id": "Yb1F8jlXe_Oq"
   },
   "outputs": [
    {
     "data": {
      "text/plain": [
       "<matplotlib.collections.PathCollection at 0x7fcfa286e850>"
      ]
     },
     "execution_count": 50,
     "metadata": {},
     "output_type": "execute_result"
    },
    {
     "data": {
      "image/png": "[encoded data removed]",
      "text/plain": [
       "<Figure size 432x288 with 1 Axes>"
      ]
     },
     "metadata": {
      "needs_background": "light"
     },
     "output_type": "display_data"
    }
   ],
   "source": [
    "plt.scatter(df2['tsne1'],df2['tsne2'], c=lables)"
   ]
  },
  {
   "cell_type": "code",
   "execution_count": null,
   "metadata": {},
   "outputs": [],
   "source": []
  }
 ],
 "metadata": {
  "colab": {
   "collapsed_sections": [],
   "name": "main.ipynb",
   "provenance": []
  },
  "kernelspec": {
   "display_name": "Python 3",
   "language": "python",
   "name": "python3"
  },
  "toc": {
   "base_numbering": 1,
   "nav_menu": {},
   "number_sections": true,
   "sideBar": true,
   "skip_h1_title": false,
   "title_cell": "Table of Contents",
   "title_sidebar": "Contents",
   "toc_cell": false,
   "toc_position": {},
   "toc_section_display": true,
   "toc_window_display": false
  },
  "varInspector": {
   "cols": {
    "lenName": 16,
    "lenType": 16,
    "lenVar": 40
   },
   "kernels_config": {
    "python": {
     "delete_cmd_postfix": "",
     "delete_cmd_prefix": "del ",
     "library": "var_list.py",
     "varRefreshCmd": "print(var_dic_list())"
    },
    "r": {
     "delete_cmd_postfix": ") ",
     "delete_cmd_prefix": "rm(",
     "library": "var_list.r",
     "varRefreshCmd": "cat(var_dic_list()) "
    }
   },
   "types_to_exclude": [
    "module",
    "function",
    "builtin_function_or_method",
    "instance",
    "_Feature"
   ],
   "window_display": false
  }
 },
 "nbformat": 4,
 "nbformat_minor": 1
}
