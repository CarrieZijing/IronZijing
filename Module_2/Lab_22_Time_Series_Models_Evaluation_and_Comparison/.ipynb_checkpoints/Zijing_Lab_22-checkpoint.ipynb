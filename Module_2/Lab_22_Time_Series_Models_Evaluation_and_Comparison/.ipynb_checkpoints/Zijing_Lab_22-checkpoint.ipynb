{
 "cells": [
  {
   "cell_type": "code",
   "execution_count": 41,
   "id": "d36e57b9",
   "metadata": {},
   "outputs": [],
   "source": [
    "from statsmodels.graphics.tsaplots import plot_pacf\n",
    "from statsmodels.graphics.tsaplots import plot_acf\n",
    "from statsmodels.tsa.arima_process import ArmaProcess\n",
    "from statsmodels.tsa.arima_model import ARMA\n",
    "from statsmodels.tsa.arima.model import ARIMA\n",
    "\n",
    "\n",
    "from statsmodels.stats.diagnostic import acorr_ljungbox\n",
    "from statsmodels.tsa.statespace.sarimax import SARIMAX\n",
    "from statsmodels.tsa.stattools import adfuller\n",
    "from statsmodels.tsa.stattools import pacf\n",
    "from statsmodels.tsa.stattools import acf\n",
    "from tqdm import tqdm_notebook\n",
    "from statsmodels.tsa.seasonal import seasonal_decompose\n",
    "\n",
    "import matplotlib.pyplot as plt\n",
    "import numpy as np\n",
    "import pandas as pd\n",
    "\n",
    "%matplotlib inline\n",
    "\n",
    "import warnings\n",
    "# Setup\n",
    "warnings.filterwarnings(\"ignore\")"
   ]
  },
  {
   "cell_type": "code",
   "execution_count": 2,
   "id": "be266597",
   "metadata": {},
   "outputs": [
    {
     "data": {
      "text/html": [
       "<div>\n",
       "<style scoped>\n",
       "    .dataframe tbody tr th:only-of-type {\n",
       "        vertical-align: middle;\n",
       "    }\n",
       "\n",
       "    .dataframe tbody tr th {\n",
       "        vertical-align: top;\n",
       "    }\n",
       "\n",
       "    .dataframe thead tr th {\n",
       "        text-align: left;\n",
       "    }\n",
       "\n",
       "    .dataframe thead tr:last-of-type th {\n",
       "        text-align: right;\n",
       "    }\n",
       "</style>\n",
       "<table border=\"1\" class=\"dataframe\">\n",
       "  <thead>\n",
       "    <tr>\n",
       "      <th>Attributes</th>\n",
       "      <th>Adj Close</th>\n",
       "      <th>Close</th>\n",
       "      <th>High</th>\n",
       "      <th>Low</th>\n",
       "      <th>Open</th>\n",
       "      <th>Volume</th>\n",
       "    </tr>\n",
       "    <tr>\n",
       "      <th>Symbols</th>\n",
       "      <th>BTC-USD</th>\n",
       "      <th>BTC-USD</th>\n",
       "      <th>BTC-USD</th>\n",
       "      <th>BTC-USD</th>\n",
       "      <th>BTC-USD</th>\n",
       "      <th>BTC-USD</th>\n",
       "    </tr>\n",
       "    <tr>\n",
       "      <th>Date</th>\n",
       "      <th></th>\n",
       "      <th></th>\n",
       "      <th></th>\n",
       "      <th></th>\n",
       "      <th></th>\n",
       "      <th></th>\n",
       "    </tr>\n",
       "  </thead>\n",
       "  <tbody>\n",
       "    <tr>\n",
       "      <th>2017-02-07</th>\n",
       "      <td>1061.349976</td>\n",
       "      <td>1061.349976</td>\n",
       "      <td>1061.930054</td>\n",
       "      <td>1040.140015</td>\n",
       "      <td>1040.140015</td>\n",
       "      <td>146007008</td>\n",
       "    </tr>\n",
       "    <tr>\n",
       "      <th>2017-02-08</th>\n",
       "      <td>1063.069946</td>\n",
       "      <td>1063.069946</td>\n",
       "      <td>1078.969971</td>\n",
       "      <td>1037.489990</td>\n",
       "      <td>1062.319946</td>\n",
       "      <td>201855008</td>\n",
       "    </tr>\n",
       "    <tr>\n",
       "      <th>2017-02-09</th>\n",
       "      <td>994.382996</td>\n",
       "      <td>994.382996</td>\n",
       "      <td>1088.989990</td>\n",
       "      <td>953.343994</td>\n",
       "      <td>1064.699951</td>\n",
       "      <td>407220000</td>\n",
       "    </tr>\n",
       "    <tr>\n",
       "      <th>2017-02-10</th>\n",
       "      <td>988.674011</td>\n",
       "      <td>988.674011</td>\n",
       "      <td>998.905029</td>\n",
       "      <td>946.690979</td>\n",
       "      <td>995.632019</td>\n",
       "      <td>190452000</td>\n",
       "    </tr>\n",
       "    <tr>\n",
       "      <th>2017-02-11</th>\n",
       "      <td>1004.450012</td>\n",
       "      <td>1004.450012</td>\n",
       "      <td>1009.289978</td>\n",
       "      <td>982.830017</td>\n",
       "      <td>988.898010</td>\n",
       "      <td>102261000</td>\n",
       "    </tr>\n",
       "    <tr>\n",
       "      <th>...</th>\n",
       "      <td>...</td>\n",
       "      <td>...</td>\n",
       "      <td>...</td>\n",
       "      <td>...</td>\n",
       "      <td>...</td>\n",
       "      <td>...</td>\n",
       "    </tr>\n",
       "    <tr>\n",
       "      <th>2022-02-02</th>\n",
       "      <td>36952.984375</td>\n",
       "      <td>36952.984375</td>\n",
       "      <td>38834.617188</td>\n",
       "      <td>36832.730469</td>\n",
       "      <td>38743.714844</td>\n",
       "      <td>19155189416</td>\n",
       "    </tr>\n",
       "    <tr>\n",
       "      <th>2022-02-03</th>\n",
       "      <td>37154.601562</td>\n",
       "      <td>37154.601562</td>\n",
       "      <td>37154.601562</td>\n",
       "      <td>36375.539062</td>\n",
       "      <td>36944.804688</td>\n",
       "      <td>18591534769</td>\n",
       "    </tr>\n",
       "    <tr>\n",
       "      <th>2022-02-04</th>\n",
       "      <td>41500.875000</td>\n",
       "      <td>41500.875000</td>\n",
       "      <td>41527.785156</td>\n",
       "      <td>37093.628906</td>\n",
       "      <td>37149.265625</td>\n",
       "      <td>29412210792</td>\n",
       "    </tr>\n",
       "    <tr>\n",
       "      <th>2022-02-05</th>\n",
       "      <td>41441.164062</td>\n",
       "      <td>41441.164062</td>\n",
       "      <td>41847.164062</td>\n",
       "      <td>41038.097656</td>\n",
       "      <td>41501.480469</td>\n",
       "      <td>19652846215</td>\n",
       "    </tr>\n",
       "    <tr>\n",
       "      <th>2022-02-06</th>\n",
       "      <td>41582.687500</td>\n",
       "      <td>41582.687500</td>\n",
       "      <td>41679.503906</td>\n",
       "      <td>41348.269531</td>\n",
       "      <td>41453.781250</td>\n",
       "      <td>16410342400</td>\n",
       "    </tr>\n",
       "  </tbody>\n",
       "</table>\n",
       "<p>1826 rows × 6 columns</p>\n",
       "</div>"
      ],
      "text/plain": [
       "Attributes     Adj Close         Close          High           Low  \\\n",
       "Symbols          BTC-USD       BTC-USD       BTC-USD       BTC-USD   \n",
       "Date                                                                 \n",
       "2017-02-07   1061.349976   1061.349976   1061.930054   1040.140015   \n",
       "2017-02-08   1063.069946   1063.069946   1078.969971   1037.489990   \n",
       "2017-02-09    994.382996    994.382996   1088.989990    953.343994   \n",
       "2017-02-10    988.674011    988.674011    998.905029    946.690979   \n",
       "2017-02-11   1004.450012   1004.450012   1009.289978    982.830017   \n",
       "...                  ...           ...           ...           ...   \n",
       "2022-02-02  36952.984375  36952.984375  38834.617188  36832.730469   \n",
       "2022-02-03  37154.601562  37154.601562  37154.601562  36375.539062   \n",
       "2022-02-04  41500.875000  41500.875000  41527.785156  37093.628906   \n",
       "2022-02-05  41441.164062  41441.164062  41847.164062  41038.097656   \n",
       "2022-02-06  41582.687500  41582.687500  41679.503906  41348.269531   \n",
       "\n",
       "Attributes          Open       Volume  \n",
       "Symbols          BTC-USD      BTC-USD  \n",
       "Date                                   \n",
       "2017-02-07   1040.140015    146007008  \n",
       "2017-02-08   1062.319946    201855008  \n",
       "2017-02-09   1064.699951    407220000  \n",
       "2017-02-10    995.632019    190452000  \n",
       "2017-02-11    988.898010    102261000  \n",
       "...                  ...          ...  \n",
       "2022-02-02  38743.714844  19155189416  \n",
       "2022-02-03  36944.804688  18591534769  \n",
       "2022-02-04  37149.265625  29412210792  \n",
       "2022-02-05  41501.480469  19652846215  \n",
       "2022-02-06  41453.781250  16410342400  \n",
       "\n",
       "[1826 rows x 6 columns]"
      ]
     },
     "execution_count": 2,
     "metadata": {},
     "output_type": "execute_result"
    }
   ],
   "source": [
    "import pandas_datareader as pdr\n",
    "btc = pdr.get_data_yahoo(['BTC-USD'])\n",
    "btc"
   ]
  },
  {
   "cell_type": "code",
   "execution_count": 3,
   "id": "0959134e",
   "metadata": {},
   "outputs": [],
   "source": [
    "# get the data (from Yahoo Finance, BTC-USD). We are interested in all available data, Close price, daily\n",
    "#btc = data.DataReader(\"BTC-USD\",data_source='yahoo')\n",
    "#btc"
   ]
  },
  {
   "cell_type": "code",
   "execution_count": 4,
   "id": "8976678c",
   "metadata": {},
   "outputs": [
    {
     "data": {
      "text/plain": [
       "<AxesSubplot:title={'center':'Bitcoin Adj. Closing Price'}, xlabel='Date'>"
      ]
     },
     "execution_count": 4,
     "metadata": {},
     "output_type": "execute_result"
    },
    {
     "data": {
      "image/png": "[encoded data removed]",
      "text/plain": [
       "<Figure size 432x288 with 1 Axes>"
      ]
     },
     "metadata": {
      "needs_background": "light"
     },
     "output_type": "display_data"
    }
   ],
   "source": [
    "btc_p=btc['Adj Close']\n",
    "btc_p.plot(title='Bitcoin Adj. Closing Price')"
   ]
  },
  {
   "cell_type": "markdown",
   "id": "a3e50267",
   "metadata": {},
   "source": [
    "# stationarity"
   ]
  },
  {
   "cell_type": "code",
   "execution_count": 5,
   "id": "2056f534",
   "metadata": {},
   "outputs": [
    {
     "name": "stdout",
     "output_type": "stream",
     "text": [
      "p-value: 0.76\n"
     ]
    }
   ],
   "source": [
    "# analyze the time series. \n",
    "# stationary? adfuller test\n",
    "\n",
    "# H0: userAcceleration.x is not stationary\n",
    "result = adfuller(btc_p)\n",
    "print('p-value: %.2f' % result[1])\n",
    "\n",
    "# p-value > 0.05, we accept H0 and conclude that our time serie is not stationary"
   ]
  },
  {
   "cell_type": "markdown",
   "id": "9b3cf57f",
   "metadata": {},
   "source": [
    "# autocorrelation"
   ]
  },
  {
   "cell_type": "code",
   "execution_count": 6,
   "id": "95d8f384",
   "metadata": {},
   "outputs": [
    {
     "data": {
      "image/png": "[encoded data removed]",
      "text/plain": [
       "<Figure size 432x288 with 1 Axes>"
      ]
     },
     "metadata": {
      "needs_background": "light"
     },
     "output_type": "display_data"
    }
   ],
   "source": [
    "# autocorrelation?\n",
    "# Calculate the ACF \n",
    "plot_acf(btc_p,lags=120)\n",
    "# Show the data as a plot (via matplotlib)\n",
    "plt.show()\n",
    "\n",
    "# there is no significant dependency from preivious observations, so we transform the data with other method to see if there will be any autocorrelation detected"
   ]
  },
  {
   "cell_type": "code",
   "execution_count": 7,
   "id": "e6ec6ee4",
   "metadata": {},
   "outputs": [
    {
     "data": {
      "text/plain": [
       "<function matplotlib.pyplot.show(close=None, block=None)>"
      ]
     },
     "execution_count": 7,
     "metadata": {},
     "output_type": "execute_result"
    },
    {
     "data": {
      "image/png": "[encoded data removed]",
      "text/plain": [
       "<Figure size 432x288 with 1 Axes>"
      ]
     },
     "metadata": {
      "needs_background": "light"
     },
     "output_type": "display_data"
    }
   ],
   "source": [
    "plot_pacf(btc_p,lags=20)\n",
    "plt.show"
   ]
  },
  {
   "cell_type": "markdown",
   "id": "d8e04e5e",
   "metadata": {},
   "source": [
    "# make our data stationary"
   ]
  },
  {
   "cell_type": "code",
   "execution_count": 8,
   "id": "f07ecd37",
   "metadata": {},
   "outputs": [
    {
     "name": "stdout",
     "output_type": "stream",
     "text": [
      "p-value: 5.821189096196265e-13\n"
     ]
    }
   ],
   "source": [
    "# we need to transform it to stationary serie\n",
    "btc['diff'] = btc['Adj Close'].diff()\n",
    "\n",
    "result = adfuller(btc['diff'].dropna())\n",
    "print(f'p-value: {result[1]}')\n",
    "# now p-value < 0.05, we reject H0 and conclude that our time series is stationary"
   ]
  },
  {
   "cell_type": "code",
   "execution_count": 9,
   "id": "b15f36c2",
   "metadata": {},
   "outputs": [
    {
     "data": {
      "text/plain": [
       "[<matplotlib.lines.Line2D at 0x7fa7140cd580>]"
      ]
     },
     "execution_count": 9,
     "metadata": {},
     "output_type": "execute_result"
    },
    {
     "data": {
      "image/png": "[encoded data removed]",
      "text/plain": [
       "<Figure size 432x288 with 1 Axes>"
      ]
     },
     "metadata": {
      "needs_background": "light"
     },
     "output_type": "display_data"
    }
   ],
   "source": [
    "plt.plot(btc['diff'] )"
   ]
  },
  {
   "cell_type": "code",
   "execution_count": 10,
   "id": "dabab5ff",
   "metadata": {},
   "outputs": [
    {
     "name": "stdout",
     "output_type": "stream",
     "text": [
      "p-value: 0.00\n"
     ]
    },
    {
     "data": {
      "text/plain": [
       "<function matplotlib.pyplot.show(close=None, block=None)>"
      ]
     },
     "execution_count": 10,
     "metadata": {},
     "output_type": "execute_result"
    },
    {
     "data": {
      "image/png": "[encoded data removed]",
      "text/plain": [
       "<Figure size 432x288 with 1 Axes>"
      ]
     },
     "metadata": {
      "needs_background": "light"
     },
     "output_type": "display_data"
    }
   ],
   "source": [
    "df_log = np.log(btc_p).diff().dropna()\n",
    "\n",
    "result = adfuller(df_log)\n",
    "print('p-value: %.2f' % result[1])\n",
    "plot_acf(df_log,lags=60)\n",
    "plt.show\n",
    "\n",
    "# found lags=10 & 33 that the dependecy could be significant, for MA"
   ]
  },
  {
   "cell_type": "code",
   "execution_count": 11,
   "id": "d532aee3",
   "metadata": {},
   "outputs": [
    {
     "data": {
      "text/plain": [
       "<function matplotlib.pyplot.show(close=None, block=None)>"
      ]
     },
     "execution_count": 11,
     "metadata": {},
     "output_type": "execute_result"
    },
    {
     "data": {
      "image/png": "[encoded data removed]",
      "text/plain": [
       "<Figure size 432x288 with 1 Axes>"
      ]
     },
     "metadata": {
      "needs_background": "light"
     },
     "output_type": "display_data"
    }
   ],
   "source": [
    "plot_pacf(df_log,lags=40)\n",
    "plt.show\n",
    "# found also lags=10 & 33 that the dependecy could be significant, for AR"
   ]
  },
  {
   "cell_type": "markdown",
   "id": "5d4da1cc",
   "metadata": {},
   "source": [
    "# check the decomposition and seasonality\n"
   ]
  },
  {
   "cell_type": "code",
   "execution_count": 12,
   "id": "64799459",
   "metadata": {},
   "outputs": [
    {
     "data": {
      "image/png": "[encoded data removed]",
      "text/plain": [
       "<Figure size 720x720 with 4 Axes>"
      ]
     },
     "metadata": {
      "needs_background": "light"
     },
     "output_type": "display_data"
    }
   ],
   "source": [
    "result_mul = seasonal_decompose(btc_p)\n",
    "\n",
    "# Plot\n",
    "plt.rcParams.update({'figure.figsize': (10,10)})\n",
    "result_mul.plot().suptitle('Decompose', fontsize=20)\n",
    "\n",
    "plt.show()"
   ]
  },
  {
   "cell_type": "markdown",
   "id": "501fbcdc",
   "metadata": {},
   "source": [
    "# split into train and test "
   ]
  },
  {
   "cell_type": "code",
   "execution_count": 13,
   "id": "1b6043e5",
   "metadata": {},
   "outputs": [],
   "source": [
    "split_index = round(len(btc_p)*0.7)\n",
    "train = btc_p[:split_index]\n",
    "test = btc_p[split_index:]\n",
    "#split index = 1278"
   ]
  },
  {
   "cell_type": "markdown",
   "id": "813c190c",
   "metadata": {},
   "source": [
    "# ARMA"
   ]
  },
  {
   "cell_type": "code",
   "execution_count": 14,
   "id": "03b63d37",
   "metadata": {},
   "outputs": [
    {
     "name": "stdout",
     "output_type": "stream",
     "text": [
      "                              ARMA Model Results                              \n",
      "==============================================================================\n",
      "Dep. Variable:                BTC-USD   No. Observations:                 1278\n",
      "Model:                   ARMA(10, 10)   Log Likelihood               -9333.842\n",
      "Method:                       css-mle   S.D. of innovations            358.569\n",
      "Date:                Sun, 06 Feb 2022   AIC                          18711.684\n",
      "Time:                        13:12:37   BIC                          18825.051\n",
      "Sample:                    02-07-2017   HQIC                         18754.256\n",
      "                         - 08-07-2020                                         \n",
      "==================================================================================\n",
      "                     coef    std err          z      P>|z|      [0.025      0.975]\n",
      "----------------------------------------------------------------------------------\n",
      "const           6893.1706   1587.884      4.341      0.000    3780.975       1e+04\n",
      "ar.L1.BTC-USD      0.7932      0.204      3.886      0.000       0.393       1.193\n",
      "ar.L2.BTC-USD      0.2800      0.090      3.119      0.002       0.104       0.456\n",
      "ar.L3.BTC-USD     -0.1885      0.121     -1.563      0.118      -0.425       0.048\n",
      "ar.L4.BTC-USD     -0.4026      0.086     -4.677      0.000      -0.571      -0.234\n",
      "ar.L5.BTC-USD      0.5483      0.114      4.803      0.000       0.325       0.772\n",
      "ar.L6.BTC-USD     -0.1788      0.124     -1.438      0.150      -0.422       0.065\n",
      "ar.L7.BTC-USD     -0.4018      0.074     -5.444      0.000      -0.546      -0.257\n",
      "ar.L8.BTC-USD      0.1250      0.121      1.031      0.302      -0.113       0.363\n",
      "ar.L9.BTC-USD      0.8371      0.068     12.337      0.000       0.704       0.970\n",
      "ar.L10.BTC-USD    -0.4268      0.175     -2.441      0.015      -0.769      -0.084\n",
      "ma.L1.BTC-USD      0.2218      0.204      1.086      0.278      -0.179       0.622\n",
      "ma.L2.BTC-USD     -0.0852      0.167     -0.509      0.611      -0.413       0.243\n",
      "ma.L3.BTC-USD      0.1104      0.076      1.449      0.147      -0.039       0.260\n",
      "ma.L4.BTC-USD      0.4936      0.082      6.054      0.000       0.334       0.653\n",
      "ma.L5.BTC-USD      0.0462      0.143      0.323      0.747      -0.234       0.327\n",
      "ma.L6.BTC-USD      0.1636      0.084      1.954      0.051      -0.000       0.328\n",
      "ma.L7.BTC-USD      0.5141      0.078      6.571      0.000       0.361       0.668\n",
      "ma.L8.BTC-USD      0.4740      0.146      3.237      0.001       0.187       0.761\n",
      "ma.L9.BTC-USD     -0.3809      0.189     -2.021      0.043      -0.750      -0.011\n",
      "ma.L10.BTC-USD     0.0846      0.036      2.351      0.019       0.014       0.155\n",
      "                                    Roots                                     \n",
      "==============================================================================\n",
      "                   Real          Imaginary           Modulus         Frequency\n",
      "------------------------------------------------------------------------------\n",
      "AR.1            -0.9735           -0.4018j            1.0531           -0.4377\n",
      "AR.2            -0.9735           +0.4018j            1.0531            0.4377\n",
      "AR.3            -0.6076           -0.8177j            1.0187           -0.3517\n",
      "AR.4            -0.6076           +0.8177j            1.0187            0.3517\n",
      "AR.5             0.2833           -0.9902j            1.0299           -0.2056\n",
      "AR.6             0.2833           +0.9902j            1.0299            0.2056\n",
      "AR.7             0.8522           -0.5538j            1.0164           -0.0917\n",
      "AR.8             0.8522           +0.5538j            1.0164            0.0917\n",
      "AR.9             1.0064           -0.0000j            1.0064           -0.0000\n",
      "AR.10            1.8461           -0.0000j            1.8461           -0.0000\n",
      "MA.1            -0.9560           -0.3756j            1.0271           -0.4404\n",
      "MA.2            -0.9560           +0.3756j            1.0271            0.4404\n",
      "MA.3            -0.5939           -0.8205j            1.0129           -0.3497\n",
      "MA.4            -0.5939           +0.8205j            1.0129            0.3497\n",
      "MA.5             0.2880           -1.0182j            1.0582           -0.2061\n",
      "MA.6             0.2880           +1.0182j            1.0582            0.2061\n",
      "MA.7             0.8610           -0.5356j            1.0140           -0.0886\n",
      "MA.8             0.8610           +0.5356j            1.0140            0.0886\n",
      "MA.9             2.6521           -1.5663j            3.0801           -0.0849\n",
      "MA.10            2.6521           +1.5663j            3.0801            0.0849\n",
      "------------------------------------------------------------------------------\n"
     ]
    }
   ],
   "source": [
    "# build the model AR & MA base on train data\n",
    "df_log_shift = train - train.shift()\n",
    "df_log_shift.dropna(inplace=True)\n",
    "\n",
    "model = ARMA(train, order=(10,10))\n",
    "results = model.fit()\n",
    "\n",
    "print(results.summary())\n",
    "\n",
    "# AIC = 18711.680 for arma at order (10,10)"
   ]
  },
  {
   "cell_type": "code",
   "execution_count": 15,
   "id": "0dd0a1ea",
   "metadata": {},
   "outputs": [],
   "source": [
    "def model_ARMA(order_list, var):\n",
    "    results = []\n",
    "    for order in (order_list):\n",
    "        try: \n",
    "            model = ARMA(var, order=order).fit()\n",
    "        except:\n",
    "            continue\n",
    "        aic = model.aic\n",
    "        results.append([order, model.aic, model.bic])\n",
    "    result_df = pd.DataFrame(results)\n",
    "    result_df.columns = ['(p, q)', 'AIC', 'BIC']\n",
    "    result_df = result_df.sort_values(by='AIC', ascending=True).reset_index(drop=True)\n",
    "    return result_df"
   ]
  },
  {
   "cell_type": "code",
   "execution_count": 29,
   "id": "48d97983",
   "metadata": {},
   "outputs": [],
   "source": [
    "p = range(5)\n",
    "q =range(5)\n",
    "order_list = [(x,y) for x in p for y in q] "
   ]
  },
  {
   "cell_type": "code",
   "execution_count": 30,
   "id": "c4f06596",
   "metadata": {},
   "outputs": [],
   "source": [
    "results_arma = model_ARMA(order_list, train.dropna())"
   ]
  },
  {
   "cell_type": "code",
   "execution_count": 32,
   "id": "48e64b18",
   "metadata": {},
   "outputs": [
    {
     "data": {
      "text/html": [
       "<div>\n",
       "<style scoped>\n",
       "    .dataframe tbody tr th:only-of-type {\n",
       "        vertical-align: middle;\n",
       "    }\n",
       "\n",
       "    .dataframe tbody tr th {\n",
       "        vertical-align: top;\n",
       "    }\n",
       "\n",
       "    .dataframe thead th {\n",
       "        text-align: right;\n",
       "    }\n",
       "</style>\n",
       "<table border=\"1\" class=\"dataframe\">\n",
       "  <thead>\n",
       "    <tr style=\"text-align: right;\">\n",
       "      <th></th>\n",
       "      <th>(p, q)</th>\n",
       "      <th>AIC</th>\n",
       "      <th>BIC</th>\n",
       "    </tr>\n",
       "  </thead>\n",
       "  <tbody>\n",
       "    <tr>\n",
       "      <th>0</th>\n",
       "      <td>(3, 2)</td>\n",
       "      <td>18741.702619</td>\n",
       "      <td>18777.773980</td>\n",
       "    </tr>\n",
       "    <tr>\n",
       "      <th>1</th>\n",
       "      <td>(4, 2)</td>\n",
       "      <td>18743.680118</td>\n",
       "      <td>18784.904531</td>\n",
       "    </tr>\n",
       "    <tr>\n",
       "      <th>2</th>\n",
       "      <td>(3, 3)</td>\n",
       "      <td>18743.681381</td>\n",
       "      <td>18784.905794</td>\n",
       "    </tr>\n",
       "    <tr>\n",
       "      <th>3</th>\n",
       "      <td>(4, 3)</td>\n",
       "      <td>18745.267980</td>\n",
       "      <td>18791.645445</td>\n",
       "    </tr>\n",
       "    <tr>\n",
       "      <th>4</th>\n",
       "      <td>(3, 4)</td>\n",
       "      <td>18745.739667</td>\n",
       "      <td>18792.117132</td>\n",
       "    </tr>\n",
       "    <tr>\n",
       "      <th>5</th>\n",
       "      <td>(4, 4)</td>\n",
       "      <td>18749.844610</td>\n",
       "      <td>18801.375126</td>\n",
       "    </tr>\n",
       "    <tr>\n",
       "      <th>6</th>\n",
       "      <td>(1, 0)</td>\n",
       "      <td>18750.759878</td>\n",
       "      <td>18766.219033</td>\n",
       "    </tr>\n",
       "    <tr>\n",
       "      <th>7</th>\n",
       "      <td>(1, 1)</td>\n",
       "      <td>18752.190199</td>\n",
       "      <td>18772.802405</td>\n",
       "    </tr>\n",
       "    <tr>\n",
       "      <th>8</th>\n",
       "      <td>(2, 0)</td>\n",
       "      <td>18752.249720</td>\n",
       "      <td>18772.861927</td>\n",
       "    </tr>\n",
       "    <tr>\n",
       "      <th>9</th>\n",
       "      <td>(2, 1)</td>\n",
       "      <td>18753.182379</td>\n",
       "      <td>18778.947637</td>\n",
       "    </tr>\n",
       "    <tr>\n",
       "      <th>10</th>\n",
       "      <td>(1, 2)</td>\n",
       "      <td>18754.154500</td>\n",
       "      <td>18779.919758</td>\n",
       "    </tr>\n",
       "    <tr>\n",
       "      <th>11</th>\n",
       "      <td>(3, 0)</td>\n",
       "      <td>18754.154708</td>\n",
       "      <td>18779.919966</td>\n",
       "    </tr>\n",
       "    <tr>\n",
       "      <th>12</th>\n",
       "      <td>(2, 2)</td>\n",
       "      <td>18755.170068</td>\n",
       "      <td>18786.088378</td>\n",
       "    </tr>\n",
       "    <tr>\n",
       "      <th>13</th>\n",
       "      <td>(2, 4)</td>\n",
       "      <td>18755.276522</td>\n",
       "      <td>18796.500935</td>\n",
       "    </tr>\n",
       "    <tr>\n",
       "      <th>14</th>\n",
       "      <td>(3, 1)</td>\n",
       "      <td>18755.565081</td>\n",
       "      <td>18786.483391</td>\n",
       "    </tr>\n",
       "    <tr>\n",
       "      <th>15</th>\n",
       "      <td>(4, 0)</td>\n",
       "      <td>18756.038592</td>\n",
       "      <td>18786.956902</td>\n",
       "    </tr>\n",
       "    <tr>\n",
       "      <th>16</th>\n",
       "      <td>(1, 3)</td>\n",
       "      <td>18756.071101</td>\n",
       "      <td>18786.989411</td>\n",
       "    </tr>\n",
       "    <tr>\n",
       "      <th>17</th>\n",
       "      <td>(4, 1)</td>\n",
       "      <td>18756.758325</td>\n",
       "      <td>18792.829687</td>\n",
       "    </tr>\n",
       "    <tr>\n",
       "      <th>18</th>\n",
       "      <td>(2, 3)</td>\n",
       "      <td>18756.839548</td>\n",
       "      <td>18792.910909</td>\n",
       "    </tr>\n",
       "    <tr>\n",
       "      <th>19</th>\n",
       "      <td>(1, 4)</td>\n",
       "      <td>18757.196463</td>\n",
       "      <td>18793.267824</td>\n",
       "    </tr>\n",
       "    <tr>\n",
       "      <th>20</th>\n",
       "      <td>(0, 4)</td>\n",
       "      <td>20428.222551</td>\n",
       "      <td>20459.140861</td>\n",
       "    </tr>\n",
       "    <tr>\n",
       "      <th>21</th>\n",
       "      <td>(0, 1)</td>\n",
       "      <td>22751.023046</td>\n",
       "      <td>22766.482201</td>\n",
       "    </tr>\n",
       "    <tr>\n",
       "      <th>22</th>\n",
       "      <td>(0, 0)</td>\n",
       "      <td>24331.732460</td>\n",
       "      <td>24342.038564</td>\n",
       "    </tr>\n",
       "  </tbody>\n",
       "</table>\n",
       "</div>"
      ],
      "text/plain": [
       "    (p, q)           AIC           BIC\n",
       "0   (3, 2)  18741.702619  18777.773980\n",
       "1   (4, 2)  18743.680118  18784.904531\n",
       "2   (3, 3)  18743.681381  18784.905794\n",
       "3   (4, 3)  18745.267980  18791.645445\n",
       "4   (3, 4)  18745.739667  18792.117132\n",
       "5   (4, 4)  18749.844610  18801.375126\n",
       "6   (1, 0)  18750.759878  18766.219033\n",
       "7   (1, 1)  18752.190199  18772.802405\n",
       "8   (2, 0)  18752.249720  18772.861927\n",
       "9   (2, 1)  18753.182379  18778.947637\n",
       "10  (1, 2)  18754.154500  18779.919758\n",
       "11  (3, 0)  18754.154708  18779.919966\n",
       "12  (2, 2)  18755.170068  18786.088378\n",
       "13  (2, 4)  18755.276522  18796.500935\n",
       "14  (3, 1)  18755.565081  18786.483391\n",
       "15  (4, 0)  18756.038592  18786.956902\n",
       "16  (1, 3)  18756.071101  18786.989411\n",
       "17  (4, 1)  18756.758325  18792.829687\n",
       "18  (2, 3)  18756.839548  18792.910909\n",
       "19  (1, 4)  18757.196463  18793.267824\n",
       "20  (0, 4)  20428.222551  20459.140861\n",
       "21  (0, 1)  22751.023046  22766.482201\n",
       "22  (0, 0)  24331.732460  24342.038564"
      ]
     },
     "execution_count": 32,
     "metadata": {},
     "output_type": "execute_result"
    }
   ],
   "source": [
    "results_arma"
   ]
  },
  {
   "cell_type": "code",
   "execution_count": 34,
   "id": "8521beec",
   "metadata": {},
   "outputs": [
    {
     "data": {
      "text/html": [
       "<div>\n",
       "<style scoped>\n",
       "    .dataframe tbody tr th:only-of-type {\n",
       "        vertical-align: middle;\n",
       "    }\n",
       "\n",
       "    .dataframe tbody tr th {\n",
       "        vertical-align: top;\n",
       "    }\n",
       "\n",
       "    .dataframe thead th {\n",
       "        text-align: right;\n",
       "    }\n",
       "</style>\n",
       "<table border=\"1\" class=\"dataframe\">\n",
       "  <thead>\n",
       "    <tr style=\"text-align: right;\">\n",
       "      <th></th>\n",
       "      <th>(p, q)</th>\n",
       "      <th>AIC</th>\n",
       "      <th>BIC</th>\n",
       "    </tr>\n",
       "  </thead>\n",
       "  <tbody>\n",
       "    <tr>\n",
       "      <th>0</th>\n",
       "      <td>(3, 2)</td>\n",
       "      <td>18741.702619</td>\n",
       "      <td>18777.77398</td>\n",
       "    </tr>\n",
       "  </tbody>\n",
       "</table>\n",
       "</div>"
      ],
      "text/plain": [
       "   (p, q)           AIC          BIC\n",
       "0  (3, 2)  18741.702619  18777.77398"
      ]
     },
     "execution_count": 34,
     "metadata": {},
     "output_type": "execute_result"
    }
   ],
   "source": [
    "results_arma[results_arma.AIC == results_arma.AIC.min()]"
   ]
  },
  {
   "cell_type": "code",
   "execution_count": 35,
   "id": "b6d3fb26",
   "metadata": {},
   "outputs": [
    {
     "data": {
      "text/html": [
       "<div>\n",
       "<style scoped>\n",
       "    .dataframe tbody tr th:only-of-type {\n",
       "        vertical-align: middle;\n",
       "    }\n",
       "\n",
       "    .dataframe tbody tr th {\n",
       "        vertical-align: top;\n",
       "    }\n",
       "\n",
       "    .dataframe thead th {\n",
       "        text-align: right;\n",
       "    }\n",
       "</style>\n",
       "<table border=\"1\" class=\"dataframe\">\n",
       "  <thead>\n",
       "    <tr style=\"text-align: right;\">\n",
       "      <th></th>\n",
       "      <th>(p, q)</th>\n",
       "      <th>AIC</th>\n",
       "      <th>BIC</th>\n",
       "    </tr>\n",
       "  </thead>\n",
       "  <tbody>\n",
       "    <tr>\n",
       "      <th>6</th>\n",
       "      <td>(1, 0)</td>\n",
       "      <td>18750.759878</td>\n",
       "      <td>18766.219033</td>\n",
       "    </tr>\n",
       "  </tbody>\n",
       "</table>\n",
       "</div>"
      ],
      "text/plain": [
       "   (p, q)           AIC           BIC\n",
       "6  (1, 0)  18750.759878  18766.219033"
      ]
     },
     "execution_count": 35,
     "metadata": {},
     "output_type": "execute_result"
    }
   ],
   "source": [
    "results_arma[results_arma.BIC == results_arma.BIC.min()]"
   ]
  },
  {
   "cell_type": "markdown",
   "id": "f67d5401",
   "metadata": {},
   "source": [
    "# Arima"
   ]
  },
  {
   "cell_type": "code",
   "execution_count": 36,
   "id": "17edb142",
   "metadata": {},
   "outputs": [
    {
     "data": {
      "image/png": "[encoded data removed]",
      "text/plain": [
       "<Figure size 720x720 with 1 Axes>"
      ]
     },
     "metadata": {
      "needs_background": "light"
     },
     "output_type": "display_data"
    }
   ],
   "source": [
    "import pmdarima\n",
    "pmdarima.plot_acf(train)"
   ]
  },
  {
   "cell_type": "code",
   "execution_count": 37,
   "id": "3798e808",
   "metadata": {},
   "outputs": [
    {
     "name": "stdout",
     "output_type": "stream",
     "text": [
      "Performing stepwise search to minimize aic\n",
      " ARIMA(2,1,2)(1,0,1)[12] intercept   : AIC=18727.956, Time=2.91 sec\n",
      " ARIMA(0,1,0)(0,0,0)[12] intercept   : AIC=18731.688, Time=0.02 sec\n",
      " ARIMA(1,1,0)(1,0,0)[12] intercept   : AIC=18734.397, Time=0.15 sec\n",
      " ARIMA(0,1,1)(0,0,1)[12] intercept   : AIC=18734.320, Time=0.18 sec\n",
      " ARIMA(0,1,0)(0,0,0)[12]             : AIC=18730.323, Time=0.01 sec\n",
      " ARIMA(2,1,2)(0,0,1)[12] intercept   : AIC=18740.270, Time=0.35 sec\n",
      " ARIMA(2,1,2)(1,0,0)[12] intercept   : AIC=18740.349, Time=0.37 sec\n",
      " ARIMA(2,1,2)(2,0,1)[12] intercept   : AIC=18729.339, Time=8.70 sec\n",
      " ARIMA(2,1,2)(1,0,2)[12] intercept   : AIC=18729.442, Time=8.78 sec\n",
      " ARIMA(2,1,2)(0,0,0)[12] intercept   : AIC=18739.163, Time=0.40 sec\n",
      " ARIMA(2,1,2)(0,0,2)[12] intercept   : AIC=18740.242, Time=1.41 sec\n",
      " ARIMA(2,1,2)(2,0,0)[12] intercept   : AIC=18740.369, Time=1.51 sec\n",
      " ARIMA(2,1,2)(2,0,2)[12] intercept   : AIC=inf, Time=9.96 sec\n",
      " ARIMA(1,1,2)(1,0,1)[12] intercept   : AIC=18737.017, Time=1.34 sec\n",
      " ARIMA(2,1,1)(1,0,1)[12] intercept   : AIC=18737.088, Time=1.54 sec\n",
      " ARIMA(3,1,2)(1,0,1)[12] intercept   : AIC=18727.254, Time=2.86 sec\n",
      " ARIMA(3,1,2)(0,0,1)[12] intercept   : AIC=18732.320, Time=1.72 sec\n",
      " ARIMA(3,1,2)(1,0,0)[12] intercept   : AIC=18732.321, Time=2.11 sec\n",
      " ARIMA(3,1,2)(2,0,1)[12] intercept   : AIC=18724.937, Time=9.08 sec\n",
      " ARIMA(3,1,2)(2,0,0)[12] intercept   : AIC=18722.466, Time=8.04 sec\n",
      " ARIMA(3,1,1)(2,0,0)[12] intercept   : AIC=18739.960, Time=2.70 sec\n",
      " ARIMA(4,1,2)(2,0,0)[12] intercept   : AIC=18727.732, Time=9.35 sec\n",
      " ARIMA(3,1,3)(2,0,0)[12] intercept   : AIC=18724.540, Time=9.08 sec\n",
      " ARIMA(2,1,1)(2,0,0)[12] intercept   : AIC=18738.319, Time=3.26 sec\n",
      " ARIMA(2,1,3)(2,0,0)[12] intercept   : AIC=18729.646, Time=7.73 sec\n",
      " ARIMA(4,1,1)(2,0,0)[12] intercept   : AIC=18736.885, Time=4.60 sec\n",
      " ARIMA(4,1,3)(2,0,0)[12] intercept   : AIC=18742.086, Time=12.44 sec\n",
      " ARIMA(3,1,2)(2,0,0)[12]             : AIC=18721.108, Time=2.47 sec\n",
      " ARIMA(3,1,2)(1,0,0)[12]             : AIC=18730.949, Time=1.22 sec\n",
      " ARIMA(3,1,2)(2,0,1)[12]             : AIC=inf, Time=5.71 sec\n",
      " ARIMA(3,1,2)(1,0,1)[12]             : AIC=inf, Time=2.50 sec\n",
      " ARIMA(2,1,2)(2,0,0)[12]             : AIC=18739.052, Time=0.39 sec\n",
      " ARIMA(3,1,1)(2,0,0)[12]             : AIC=18738.679, Time=0.69 sec\n",
      " ARIMA(4,1,2)(2,0,0)[12]             : AIC=18726.082, Time=3.08 sec\n",
      " ARIMA(3,1,3)(2,0,0)[12]             : AIC=18723.273, Time=3.59 sec\n",
      " ARIMA(2,1,1)(2,0,0)[12]             : AIC=18737.053, Time=0.40 sec\n",
      " ARIMA(2,1,3)(2,0,0)[12]             : AIC=18727.982, Time=4.97 sec\n",
      " ARIMA(4,1,1)(2,0,0)[12]             : AIC=18735.531, Time=1.04 sec\n",
      " ARIMA(4,1,3)(2,0,0)[12]             : AIC=18740.419, Time=8.95 sec\n",
      "\n",
      "Best model:  ARIMA(3,1,2)(2,0,0)[12]          \n",
      "Total fit time: 145.709 seconds\n"
     ]
    }
   ],
   "source": [
    "# has in-built auto-stationary, but better to make it stationary first, then use this model\n",
    "from pmdarima.arima import auto_arima\n",
    "model = auto_arima(train, trace=True, error_action='ignore', suppress_warnings=True,  seasonal=True, m=12)\n",
    "model.fit(train)\n",
    "forecast = model.predict(n_periods=len(test))\n",
    "forecast = pd.DataFrame(forecast,index = test.index,columns=['Prediction'])"
   ]
  },
  {
   "cell_type": "markdown",
   "id": "a97e4c5f",
   "metadata": {},
   "source": [
    "### so ARIMA has a lower AIC, so I will train my model with ARIMA(3,1,2)"
   ]
  },
  {
   "cell_type": "markdown",
   "id": "c85436ba",
   "metadata": {},
   "source": [
    "# train model"
   ]
  },
  {
   "cell_type": "code",
   "execution_count": 145,
   "id": "6d3d1a6c",
   "metadata": {},
   "outputs": [
    {
     "name": "stdout",
     "output_type": "stream",
     "text": [
      "                               SARIMAX Results                                \n",
      "==============================================================================\n",
      "Dep. Variable:                BTC-USD   No. Observations:                 1826\n",
      "Model:                 ARIMA(3, 1, 2)   Log Likelihood              -15074.614\n",
      "Date:                Sun, 06 Feb 2022   AIC                          30161.229\n",
      "Time:                        23:09:27   BIC                          30194.285\n",
      "Sample:                    02-07-2017   HQIC                         30173.423\n",
      "                         - 02-06-2022                                         \n",
      "Covariance Type:                  opg                                         \n",
      "==============================================================================\n",
      "                 coef    std err          z      P>|z|      [0.025      0.975]\n",
      "------------------------------------------------------------------------------\n",
      "ar.L1          0.3564      4.484      0.079      0.937      -8.432       9.145\n",
      "ar.L2          0.5650      4.134      0.137      0.891      -7.538       8.668\n",
      "ar.L3          0.0188      0.170      0.111      0.912      -0.314       0.352\n",
      "ma.L1         -0.3830      4.484     -0.085      0.932      -9.172       8.406\n",
      "ma.L2         -0.5429      4.261     -0.127      0.899      -8.894       7.809\n",
      "sigma2      8.789e+05    1.1e+04     79.837      0.000    8.57e+05       9e+05\n",
      "===================================================================================\n",
      "Ljung-Box (L1) (Q):                   0.00   Jarque-Bera (JB):             11788.90\n",
      "Prob(Q):                              0.97   Prob(JB):                         0.00\n",
      "Heteroskedasticity (H):              12.81   Skew:                            -0.26\n",
      "Prob(H) (two-sided):                  0.00   Kurtosis:                        15.44\n",
      "===================================================================================\n",
      "\n",
      "Warnings:\n",
      "[1] Covariance matrix calculated using the outer product of gradients (complex-step).\n"
     ]
    }
   ],
   "source": [
    "arima312 = ARIMA(btc_p, order=(3,1,2))\n",
    "arima312_fit = arima312.fit()\n",
    "print(arima312_fit.summary())"
   ]
  },
  {
   "cell_type": "markdown",
   "id": "bfb776aa",
   "metadata": {},
   "source": [
    "# prediction"
   ]
  },
  {
   "cell_type": "code",
   "execution_count": 146,
   "id": "0054f34b",
   "metadata": {},
   "outputs": [
    {
     "data": {
      "text/plain": [
       "41582.6875"
      ]
     },
     "execution_count": 146,
     "metadata": {},
     "output_type": "execute_result"
    }
   ],
   "source": [
    "test.loc['2022-02-06 00:00:00', 'BTC-USD']"
   ]
  },
  {
   "cell_type": "code",
   "execution_count": 147,
   "id": "bb79ddb7",
   "metadata": {},
   "outputs": [],
   "source": [
    "def predictions_5(predictions):\n",
    "    result=[test.loc['2022-02-06 00:00:00', 'BTC-USD']]\n",
    "    for i in range(1,6):\n",
    "        result.append(result[-1]+predictions[i])\n",
    "    return result"
   ]
  },
  {
   "cell_type": "code",
   "execution_count": 148,
   "id": "891bef20",
   "metadata": {},
   "outputs": [
    {
     "data": {
      "text/plain": [
       "DatetimeIndex(['2022-02-06', '2022-02-07', '2022-02-08', '2022-02-09',\n",
       "               '2022-02-10', '2022-02-11'],\n",
       "              dtype='datetime64[ns]', freq='D')"
      ]
     },
     "execution_count": 148,
     "metadata": {},
     "output_type": "execute_result"
    }
   ],
   "source": [
    "pred_date = pd.date_range(\"2022-02-06\", periods=6, freq=\"D\")\n",
    "pred_date"
   ]
  },
  {
   "cell_type": "code",
   "execution_count": 149,
   "id": "4b99c37a",
   "metadata": {},
   "outputs": [
    {
     "data": {
      "text/plain": [
       "2022-02-06    41446.183991\n",
       "2022-02-07    41572.519645\n",
       "2022-02-08    41573.626891\n",
       "2022-02-09    41570.935235\n",
       "2022-02-10    41570.410387\n",
       "2022-02-11    41568.723342\n",
       "Freq: D, Name: predicted_mean, dtype: float64"
      ]
     },
     "execution_count": 149,
     "metadata": {},
     "output_type": "execute_result"
    }
   ],
   "source": [
    "pred = arima312_fit.predict(start='2022-02-06 00:00:00', end='2022-02-11 00:00:00')\n",
    "pred"
   ]
  },
  {
   "cell_type": "code",
   "execution_count": 150,
   "id": "e057729d",
   "metadata": {},
   "outputs": [
    {
     "data": {
      "text/html": [
       "<div>\n",
       "<style scoped>\n",
       "    .dataframe tbody tr th:only-of-type {\n",
       "        vertical-align: middle;\n",
       "    }\n",
       "\n",
       "    .dataframe tbody tr th {\n",
       "        vertical-align: top;\n",
       "    }\n",
       "\n",
       "    .dataframe thead th {\n",
       "        text-align: right;\n",
       "    }\n",
       "</style>\n",
       "<table border=\"1\" class=\"dataframe\">\n",
       "  <thead>\n",
       "    <tr style=\"text-align: right;\">\n",
       "      <th></th>\n",
       "      <th>predicted_mean</th>\n",
       "    </tr>\n",
       "  </thead>\n",
       "  <tbody>\n",
       "    <tr>\n",
       "      <th>2022-02-06</th>\n",
       "      <td>41446.183991</td>\n",
       "    </tr>\n",
       "    <tr>\n",
       "      <th>2022-02-07</th>\n",
       "      <td>41572.519645</td>\n",
       "    </tr>\n",
       "    <tr>\n",
       "      <th>2022-02-08</th>\n",
       "      <td>41573.626891</td>\n",
       "    </tr>\n",
       "    <tr>\n",
       "      <th>2022-02-09</th>\n",
       "      <td>41570.935235</td>\n",
       "    </tr>\n",
       "    <tr>\n",
       "      <th>2022-02-10</th>\n",
       "      <td>41570.410387</td>\n",
       "    </tr>\n",
       "    <tr>\n",
       "      <th>2022-02-11</th>\n",
       "      <td>41568.723342</td>\n",
       "    </tr>\n",
       "  </tbody>\n",
       "</table>\n",
       "</div>"
      ],
      "text/plain": [
       "            predicted_mean\n",
       "2022-02-06    41446.183991\n",
       "2022-02-07    41572.519645\n",
       "2022-02-08    41573.626891\n",
       "2022-02-09    41570.935235\n",
       "2022-02-10    41570.410387\n",
       "2022-02-11    41568.723342"
      ]
     },
     "execution_count": 150,
     "metadata": {},
     "output_type": "execute_result"
    }
   ],
   "source": [
    "result = pd.DataFrame(pred)\n",
    "result"
   ]
  },
  {
   "cell_type": "code",
   "execution_count": null,
   "id": "2cd32b89",
   "metadata": {},
   "outputs": [],
   "source": []
  },
  {
   "cell_type": "code",
   "execution_count": null,
   "id": "59fee2ae",
   "metadata": {},
   "outputs": [],
   "source": []
  }
 ],
 "metadata": {
  "kernelspec": {
   "display_name": "Python 3",
   "language": "python",
   "name": "python3"
  },
  "language_info": {
   "codemirror_mode": {
    "name": "ipython",
    "version": 3
   },
   "file_extension": ".py",
   "mimetype": "text/x-python",
   "name": "python",
   "nbconvert_exporter": "python",
   "pygments_lexer": "ipython3",
   "version": "3.8.8"
  }
 },
 "nbformat": 4,
 "nbformat_minor": 5
}
