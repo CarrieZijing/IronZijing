{
 "cells": [
  {
   "cell_type": "markdown",
   "metadata": {},
   "source": [
    "# Before your start:\n",
    "- Read the README.md file\n",
    "- Comment as much as you can and use the resources in the README.md file\n",
    "- Happy learning!"
   ]
  },
  {
   "cell_type": "markdown",
   "metadata": {},
   "source": [
    "# Challenge 1 - Combining Strings\n",
    "\n",
    "Combining strings is an important skill to acquire. There are multiple ways of combining strings in Python, as well as combining strings with variables. We will explore this in the first challenge. In the cell below, combine the strings in the list and add spaces between the strings (do not add a space after the last string). Insert a period after the last string."
   ]
  },
  {
   "cell_type": "code",
   "execution_count": 8,
   "metadata": {},
   "outputs": [
    {
     "name": "stdout",
     "output_type": "stream",
     "text": [
      "Durante un tiempo no estuvo segura de si su marido era su marido\n"
     ]
    }
   ],
   "source": [
    "str_list = ['Durante', 'un', 'tiempo', 'no', 'estuvo', 'segura', 'de', 'si', 'su', 'marido', 'era', 'su', 'marido']\n",
    "# Your code here:\n",
    "str1=\"\"\n",
    "for i in str_list:\n",
    "    \n",
    "    str1 = str1 +\" \"+ i\n",
    "    \n",
    "print(str1.lstrip())"
   ]
  },
  {
   "cell_type": "markdown",
   "metadata": {},
   "source": [
    "In the cell below, use the list of strings to create a grocery list. Start the list with the string `Grocery list: ` and include a comma and a space between each item except for the last one. Include a period at the end. Only include foods in the list that start with the letter 'b' and ensure all foods are lower case."
   ]
  },
  {
   "cell_type": "code",
   "execution_count": 10,
   "metadata": {},
   "outputs": [
    {
     "name": "stdout",
     "output_type": "stream",
     "text": [
      "grocery list: bananas, bread, brownie mix, broccoli. \n"
     ]
    }
   ],
   "source": [
    "food_list = ['Bananas', 'Chocolate', 'bread', 'diapers', 'Ice Cream', 'Brownie Mix', 'broccoli']\n",
    "\n",
    "# Your code here:\n",
    "str_glist = \"Grocery list: \"\n",
    "\n",
    "for f in food_list:\n",
    "    if f.startswith('b') or f.startswith('B'):\n",
    "        str_glist = str_glist + f + \", \"\n",
    "str_glist = str_glist[::-1].replace(\",\",\".\",1)[::-1]\n",
    "print(str_glist.lower())"
   ]
  },
  {
   "cell_type": "markdown",
   "metadata": {},
   "source": [
    "In the cell below, write a function that computes the area of a circle using its radius. Compute the area of the circle and insert the radius and the area between the two strings. Make sure to include spaces between the variable and the strings. \n",
    "\n",
    "Note: You can use the techniques we have learned so far or use f-strings. F-strings allow us to embed code inside strings. You can read more about f-strings [here](https://www.python.org/dev/peps/pep-0498/)."
   ]
  },
  {
   "cell_type": "code",
   "execution_count": 27,
   "metadata": {},
   "outputs": [
    {
     "name": "stdout",
     "output_type": "stream",
     "text": [
      "please type in a radius: 5\n",
      "The area of the circle with radius: 5.0 is: 78.53981633974483\n"
     ]
    }
   ],
   "source": [
    "import math\n",
    "\n",
    "string1 = \"The area of the circle with radius:\"\n",
    "string2  = \"is:\"\n",
    "radius = 4.5\n",
    "\n",
    "\n",
    "#    Input: Float (and default value for pi)\n",
    "#    Output: Float\n",
    "    \n",
    "#    Sample input: 5.0\n",
    "#    Sample Output: 78.53981633\n",
    "    \n",
    "    # Your code here:\n",
    "def area(x, pi = math.pi):\n",
    "    area=x*x*pi\n",
    "    return area\n",
    "    \n",
    "radius = float(input(\"please type in a radius: \"))\n",
    "    \n",
    "# Your output string here:\n",
    "print(string1 + \" \" + str(radius) + \" \" + string2 + \" \" + str(area(radius)))"
   ]
  },
  {
   "cell_type": "markdown",
   "metadata": {},
   "source": [
    "# Challenge 2 - Splitting Strings\n",
    "\n",
    "We have first looked at combining strings into one long string. There are times where we need to do the opposite and split the string into smaller components for further analysis. \n",
    "\n",
    "In the cell below, split the string into a list of strings using the space delimiter. Count the frequency of each word in the string in a dictionary. Strip the periods, line breaks and commas from the text. Make sure to remove empty strings from your dictionary."
   ]
  },
  {
   "cell_type": "code",
   "execution_count": 90,
   "metadata": {},
   "outputs": [
    {
     "data": {
      "text/plain": [
       "Counter({'Some': 2,\n",
       "         'say': 3,\n",
       "         'the': 1,\n",
       "         'world': 1,\n",
       "         'will': 1,\n",
       "         'end': 1,\n",
       "         'in': 2,\n",
       "         'fire': 2,\n",
       "         'ice': 2,\n",
       "         'From': 1,\n",
       "         'what': 1,\n",
       "         'I’ve': 1,\n",
       "         'tasted': 1,\n",
       "         'of': 2,\n",
       "         'desire': 1,\n",
       "         'I': 3,\n",
       "         'hold': 1,\n",
       "         'with': 1,\n",
       "         'those': 1,\n",
       "         'who': 1,\n",
       "         'favor': 1,\n",
       "         'But': 1,\n",
       "         'if': 1,\n",
       "         'it': 1,\n",
       "         'had': 1,\n",
       "         'to': 1,\n",
       "         'perish': 1,\n",
       "         'twice': 1,\n",
       "         'think': 1,\n",
       "         'know': 1,\n",
       "         'enough': 1,\n",
       "         'hate': 1,\n",
       "         'To': 1,\n",
       "         'that': 1,\n",
       "         'for': 1,\n",
       "         'destruction': 1,\n",
       "         'Is': 1,\n",
       "         'also': 1,\n",
       "         'great': 1,\n",
       "         'And': 1,\n",
       "         'would': 1,\n",
       "         'suffice': 1})"
      ]
     },
     "execution_count": 90,
     "metadata": {},
     "output_type": "execute_result"
    }
   ],
   "source": [
    "poem = \"\"\"Some say the world will end in fire,\n",
    "Some say in ice.\n",
    "From what I’ve tasted of desire\n",
    "I hold with those who favor fire.\n",
    "But if it had to perish twice,\n",
    "I think I know enough of hate\n",
    "To say that for destruction ice\n",
    "Is also great\n",
    "And would suffice.\"\"\"\n",
    "\n",
    "# Your code here:\n",
    "from collections import Counter\n",
    "\n",
    "new_poem = poem.replace(\"\\n\", \" \").replace(\".\",\"\").replace(\",\",\"\")\n",
    "poem1 = new_poem.split(sep=\" \")\n",
    "\n",
    "Counter(poem1)\n"
   ]
  },
  {
   "cell_type": "markdown",
   "metadata": {},
   "source": [
    "In the cell below, find all the words that appear in the text and do not appear in the blacklist. You must parse the string but can choose any data structure you wish for the words that do not appear in the blacklist. Remove all non letter characters and convert all words to lower case."
   ]
  },
  {
   "cell_type": "code",
   "execution_count": 97,
   "metadata": {},
   "outputs": [
    {
     "name": "stdout",
     "output_type": "stream",
     "text": [
      "['i', 'was', 'angry', 'with', 'my', 'friend;', 'i', 'told', 'my', 'wrath', 'my', 'wrath', 'did', 'end', 'i', 'was', 'angry', 'with', 'my', 'foe:', 'i', 'told', 'not', 'my', 'wrath', 'did', 'grow', 'i', 'waterd', 'fears', 'night', 'morning', 'with', 'my', 'tears:', 'i', 'sunned', 'with', 'smiles', 'with', 'soft', 'deceitful', 'wiles', 'grew', 'both', 'day', 'night', 'till', 'bore', 'apple', 'bright', 'my', 'foe', 'beheld', 'shine', 'he', 'knew', 'that', 'was', 'mine', 'into', 'my', 'garden', 'stole', 'when', 'night', 'had', 'veild', 'pole;', 'morning', 'glad', 'i', 'see;', 'my', 'foe', 'outstretched', 'beneath', 'tree']\n"
     ]
    }
   ],
   "source": [
    "blacklist = ['and', 'as', 'an', 'a', 'the', 'in', 'it']\n",
    "\n",
    "poem = \"\"\"I was angry with my friend; \n",
    "I told my wrath, my wrath did end.\n",
    "I was angry with my foe: \n",
    "I told it not, my wrath did grow. \n",
    "\n",
    "And I waterd it in fears,\n",
    "Night & morning with my tears: \n",
    "And I sunned it with smiles,\n",
    "And with soft deceitful wiles. \n",
    "\n",
    "And it grew both day and night. \n",
    "Till it bore an apple bright. \n",
    "And my foe beheld it shine,\n",
    "And he knew that it was mine. \n",
    "\n",
    "And into my garden stole, \n",
    "When the night had veild the pole; \n",
    "In the morning glad I see; \n",
    "My foe outstretched beneath the tree.\"\"\"\n",
    "\n",
    "# Your code here:\n",
    "poem2 = poem.replace(\"\\n\", \" \").replace(\".\",\"\").replace(\",\",\"\").replace(\"&\",\"\")\n",
    "poem3 = poem2.split(sep=\" \")\n",
    "\n",
    "while '' in poem3:\n",
    "    poem3.remove('')\n",
    "\n",
    "poem4=[]\n",
    "for i in poem3:\n",
    "    if i.lower() not in blacklist:\n",
    "        poem4.append(i.lower())\n",
    "\n",
    "print(poem4)"
   ]
  }
 ],
 "metadata": {
  "kernelspec": {
   "display_name": "Python 3",
   "language": "python",
   "name": "python3"
  },
  "language_info": {
   "codemirror_mode": {
    "name": "ipython",
    "version": 3
   },
   "file_extension": ".py",
   "mimetype": "text/x-python",
   "name": "python",
   "nbconvert_exporter": "python",
   "pygments_lexer": "ipython3",
   "version": "3.8.8"
  },
  "varInspector": {
   "cols": {
    "lenName": 16,
    "lenType": 16,
    "lenVar": 40
   },
   "kernels_config": {
    "python": {
     "delete_cmd_postfix": "",
     "delete_cmd_prefix": "del ",
     "library": "var_list.py",
     "varRefreshCmd": "print(var_dic_list())"
    },
    "r": {
     "delete_cmd_postfix": ") ",
     "delete_cmd_prefix": "rm(",
     "library": "var_list.r",
     "varRefreshCmd": "cat(var_dic_list()) "
    }
   },
   "types_to_exclude": [
    "module",
    "function",
    "builtin_function_or_method",
    "instance",
    "_Feature"
   ],
   "window_display": false
  }
 },
 "nbformat": 4,
 "nbformat_minor": 2
}
