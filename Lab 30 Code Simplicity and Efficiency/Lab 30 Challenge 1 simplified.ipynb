{
 "cells": [
  {
   "cell_type": "markdown",
   "id": "15d0caff",
   "metadata": {},
   "source": [
    "# Challenge 1"
   ]
  },
  {
   "cell_type": "code",
   "execution_count": 33,
   "id": "290a1b45",
   "metadata": {},
   "outputs": [
    {
     "name": "stdout",
     "output_type": "stream",
     "text": [
      "Welcome to this calculator!\n",
      "It can add and subtract whole numbers from zero to five\n",
      "Please choose your first number (zero to five): six\n",
      "What do you want to do? plus or minus: plus\n",
      "Please choose your second number (zero to five): one\n",
      "I am not able to answer this question. Check your input.\n"
     ]
    }
   ],
   "source": [
    "print('Welcome to this calculator!')\n",
    "print('It can add and subtract whole numbers from zero to five')\n",
    "a = input('Please choose your first number (zero to five): ')\n",
    "b = input('What do you want to do? plus or minus: ')\n",
    "c = input('Please choose your second number (zero to five): ')\n",
    "\n",
    "dict = {'one':1,'two':2,'three':3,'four':4,'five':5,'six':6,'seven':7,'eight':8,'nine':9,'ten':10,'zero':0,'negative one':-1,'negative two':-2,'negative three':-3,'negative four':-4,'negative five': -5}\n",
    "\n",
    "if a not in dict.keys() or c not in dict.keys() or (dict[a]>5 or dict[a]<0) or (dict[c]>5 or dict[c]<0) or (not b == 'plus' and not b == 'minus'):\n",
    "    print('I am not able to answer this question. Check your input.') \n",
    "else:\n",
    "    if b == 'plus':\n",
    "        result_num=dict[a]+dict[c]\n",
    "    elif b == 'minus':\n",
    "        result_num=dict[a]-dict[c]    \n",
    "    for k,v in dict.items():\n",
    "        if v == result_num:\n",
    "            print(k)"
   ]
  },
  {
   "cell_type": "code",
   "execution_count": null,
   "id": "53282713",
   "metadata": {},
   "outputs": [],
   "source": []
  },
  {
   "cell_type": "code",
   "execution_count": null,
   "id": "f1a578f9",
   "metadata": {},
   "outputs": [],
   "source": []
  }
 ],
 "metadata": {
  "kernelspec": {
   "display_name": "Python 3",
   "language": "python",
   "name": "python3"
  },
  "language_info": {
   "codemirror_mode": {
    "name": "ipython",
    "version": 3
   },
   "file_extension": ".py",
   "mimetype": "text/x-python",
   "name": "python",
   "nbconvert_exporter": "python",
   "pygments_lexer": "ipython3",
   "version": "3.8.8"
  }
 },
 "nbformat": 4,
 "nbformat_minor": 5
}
