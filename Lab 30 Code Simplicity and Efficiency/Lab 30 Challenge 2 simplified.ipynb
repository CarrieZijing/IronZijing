{
 "cells": [
  {
   "cell_type": "code",
   "execution_count": 12,
   "id": "a65bca25",
   "metadata": {},
   "outputs": [
    {
     "name": "stdout",
     "output_type": "stream",
     "text": [
      "Enter minimum string length: 5\n",
      "Enter maximum string length: 10\n",
      "How many random strings to generate? 3\n",
      "2yxxtp\n",
      "8jgf8wve\n",
      "uvopuewxrl\n"
     ]
    }
   ],
   "source": [
    "import random\n",
    "import string\n",
    "\n",
    "a = int(input('Enter minimum string length: '))\n",
    "b = int(input('Enter maximum string length: '))\n",
    "n = int(input('How many random strings to generate? '))\n",
    "\n",
    "char_set = string.ascii_lowercase + string.digits\n",
    "\n",
    "for num in range(0,n):\n",
    "    choice = random.choice(list(range(a,b+1)))\n",
    "    \n",
    "    c = random.sample(char_set*choice, choice)\n",
    "    print(''.join(c))"
   ]
  },
  {
   "cell_type": "code",
   "execution_count": null,
   "id": "526d2059",
   "metadata": {},
   "outputs": [],
   "source": []
  }
 ],
 "metadata": {
  "kernelspec": {
   "display_name": "Python 3",
   "language": "python",
   "name": "python3"
  },
  "language_info": {
   "codemirror_mode": {
    "name": "ipython",
    "version": 3
   },
   "file_extension": ".py",
   "mimetype": "text/x-python",
   "name": "python",
   "nbconvert_exporter": "python",
   "pygments_lexer": "ipython3",
   "version": "3.8.8"
  }
 },
 "nbformat": 4,
 "nbformat_minor": 5
}
